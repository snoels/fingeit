{
 "cells": [
  {
   "cell_type": "code",
   "execution_count": 22,
   "metadata": {},
   "outputs": [],
   "source": [
    "#imports\n",
    "from datasets import load_from_disk\n",
    "import pandas as pd"
   ]
  },
  {
   "cell_type": "code",
   "execution_count": 23,
   "metadata": {},
   "outputs": [],
   "source": [
    "#settings\n",
    "# pd.set_option('display.max_colwidth', None)"
   ]
  },
  {
   "cell_type": "code",
   "execution_count": 25,
   "metadata": {},
   "outputs": [],
   "source": [
    "# A lookup dict containing translations from EN to NL\n",
    "#logic: of sentences can be found: https://github.com/AI4Finance-Foundation/FinGPT/blob/3b0e779e5c1a547ef1900e7bc5ea8ac37cd65d34/fingpt/FinGPT_Benchmark/data/prepare_data.ipynb#L1922 section finred\n",
    "#FinRED/relations.txt can be found: https://github.com/AI4Finance-Foundation/FinGPT/blob/master/fingpt/FinGPT_Benchmark/benchmarks/finred.py\n",
    "    \n",
    "options_lookup_dict = {\n",
    "    'product_or_material_produced': 'product/materiaal geproduceerd',\n",
    "    'product or material produced': 'product/materiaal geproduceerd',\n",
    "    'product/material produced': 'product/materiaal geproduceerd',\n",
    "    'manufacturer': 'fabrikant',\n",
    "    'distributed_by':   'verdeeld door',\n",
    "    'distributed by':   'verdeeld door',\n",
    "    'industry': 'industrie',\n",
    "    'position_held':    'positie bekleed',\n",
    "    'position held':    'positie bekleed',\n",
    "    'original_broadcaster': 'originele omroep',\n",
    "    'original broadcaster': 'originele omroep',\n",
    "    'owned_by': 'bezeten door',\n",
    "    'owned by': 'bezeten door',\n",
    "    'founded_by':   'opgericht door',\n",
    "    'founded by':   'opgericht door',\n",
    "    'distribution_format':  'distributieformaat',\n",
    "    'distribution format':  'distributieformaat',\n",
    "    'headquarters_location':    'hoofdkantoorlocatie',\n",
    "    'headquarters location':    'hoofdkantoorlocatie',\n",
    "    'stock_exchange':   'effectenbeurs',\n",
    "    'stock exchange':   'effectenbeurs',\n",
    "    'currency': 'valuta',\n",
    "    'parent_organization':  'moederorganisatie',\n",
    "    'parent organization':  'moederorganisatie',\n",
    "    'chief_executive_officer':  'chief executive officer',\n",
    "    'chief executive officer':  'chief executive officer',\n",
    "    'director_/_manager':   'directeur/manager',\n",
    "    'director/manager':   'directeur/manager',\n",
    "    'owner_of': 'eigenaar van',\n",
    "    'owner of': 'eigenaar van',\n",
    "    'operator': 'operator',\n",
    "    'member_of':    'lid van',\n",
    "    'member of':    'lid van',\n",
    "    'employer': 'werkgever',\n",
    "    'chairperson':  'voorzitter',\n",
    "    'platform': 'platform',\n",
    "    'subsidiary':   'dochteronderneming',\n",
    "    'legal_form':   'rechtsvorm',\n",
    "    'legal form':   'rechtsvorm',\n",
    "    'publisher':    'uitgever',\n",
    "    'developer':    'ontwikkelaar',\n",
    "    'brand':    'merk',\n",
    "    'business_division':    'bedrijfsdivisie',\n",
    "    'business division':    'bedrijfsdivisie',\n",
    "    'location_of_formation':    'locatie van ontstaan',\n",
    "    'location of formation':    'locatie van ontstaan',\n",
    "    'creator':  'maker',\n",
    "}"
   ]
  },
  {
   "cell_type": "markdown",
   "metadata": {},
   "source": [
    "### Finred - cls"
   ]
  },
  {
   "cell_type": "code",
   "execution_count": 28,
   "metadata": {},
   "outputs": [
    {
     "data": {
      "text/plain": [
       "0                                               Utilize the input text as a context reference, choose the right relationship between 'Apple Inc' and 'Steve Jobs' from the options.\\nOptions: industrie, opgericht door, eigenaar van, valuta\n",
       "1                                           Refer to the input text as context and select the correct relationship between 'Apple Inc' and 'Steve Jobs' from the available options.\\nOptions: industrie, valuta, eigenaar van, opgericht door\n",
       "2                                          Take context from the input text and decide on the accurate relationship between 'Apple Inc' and 'Steve Jobs' from the options provided.\\nOptions: industrie, valuta, eigenaar van, opgericht door\n",
       "3                                                                               What is the relationship between 'Apple Inc' and 'Steve Jobs' in the context of the input sentence.\\nOptions: valuta, opgericht door, eigenaar van, industrie\n",
       "4                                                                            In the context of the input sentence, determine the relationship between 'Apple Inc' and 'Steve Jobs'.\\nOptions: industrie, opgericht door, eigenaar van, valuta\n",
       "                                                                                                                         ...                                                                                                                 \n",
       "48469     Refer to the input text as context and select the correct relationship between 'Western Digital' and 'Hard disk drive' from the available options.\\nOptions: maker, product/materiaal geproduceerd, ontwikkelaar, directeur/manager\n",
       "48470    Take context from the input text and decide on the accurate relationship between 'Western Digital' and 'Hard disk drive' from the options provided.\\nOptions: directeur/manager, ontwikkelaar, product/materiaal geproduceerd, maker\n",
       "48471                                         What is the relationship between 'Western Digital' and 'Hard disk drive' in the context of the input sentence.\\nOptions: ontwikkelaar, product/materiaal geproduceerd, directeur/manager, maker\n",
       "48472                                      In the context of the input sentence, determine the relationship between 'Western Digital' and 'Hard disk drive'.\\nOptions: maker, product/materiaal geproduceerd, directeur/manager, ontwikkelaar\n",
       "48473                                     Analyze the relationship between 'Western Digital' and 'Hard disk drive' within the context of the input sentence.\\nOptions: maker, product/materiaal geproduceerd, ontwikkelaar, directeur/manager\n",
       "Name: instruction_translate, Length: 48474, dtype: object"
      ]
     },
     "execution_count": 28,
     "metadata": {},
     "output_type": "execute_result"
    }
   ],
   "source": [
    "datasetdict = load_from_disk(\"../data/FinGPT/fingpt-finred-cls\")\n",
    "df = datasetdict['train'].to_pandas()\n",
    "df['instruction_translate'] = df['instruction']\n",
    "\n",
    "for english, dutch in options_lookup_dict.items():\n",
    "    df['instruction_translate'] = df['instruction_translate'].str.replace(english, dutch)\n",
    "\n",
    "df['instruction_translate']"
   ]
  },
  {
   "cell_type": "markdown",
   "metadata": {},
   "source": [
    "### Finred re"
   ]
  },
  {
   "cell_type": "code",
   "execution_count": 33,
   "metadata": {},
   "outputs": [
    {
     "data": {
      "text/plain": [
       "0        Given phrases that describe the relationship between two words/phrases as options, extract the word/phrase pair and the corresponding lexical relationship between them from the input text. The output format should be \"relation1: word1, word2; relation2: word3, word4\". Options: product/materiaal geproduceerd, fabrikant, verdeeld door, industrie, positie bekleed, originele omroep, bezeten door, opgericht door, distributieformaat, hoofdkantoorlocatie, effectenbeurs, valuta, moederorganisatie, chief executive officer, directeur/manager, eigenaar van, operator, lid van, werkgever, voorzitter, platform, dochteronderneming, rechtsvorm, uitgever, ontwikkelaar, merk, bedrijfsdivisie, locatie van ontstaan, maker.\n",
       "1                                             Given the input sentence, please extract the subject and object containing a certain relation in the sentence according to the following relation types, in the format of \"relation1: word1, word2; relation2: word3, word4\". Relations include: product/materiaal geproduceerd; fabrikant; verdeeld door; industrie; positie bekleed; originele omroep; bezeten door; opgericht door; distributieformaat; hoofdkantoorlocatie; effectenbeurs; valuta; moederorganisatie; chief executive officer; directeur/manager; eigenaar van; operator; lid van; werkgever; voorzitter; platform; dochteronderneming; rechtsvorm; uitgever; ontwikkelaar; merk; bedrijfsdivisie; locatie van ontstaan; maker.\n",
       "2        Given phrases that describe the relationship between two words/phrases as options, extract the word/phrase pair and the corresponding lexical relationship between them from the input text. The output format should be \"relation1: word1, word2; relation2: word3, word4\". Options: product/materiaal geproduceerd, fabrikant, verdeeld door, industrie, positie bekleed, originele omroep, bezeten door, opgericht door, distributieformaat, hoofdkantoorlocatie, effectenbeurs, valuta, moederorganisatie, chief executive officer, directeur/manager, eigenaar van, operator, lid van, werkgever, voorzitter, platform, dochteronderneming, rechtsvorm, uitgever, ontwikkelaar, merk, bedrijfsdivisie, locatie van ontstaan, maker.\n",
       "3                                             Given the input sentence, please extract the subject and object containing a certain relation in the sentence according to the following relation types, in the format of \"relation1: word1, word2; relation2: word3, word4\". Relations include: product/materiaal geproduceerd; fabrikant; verdeeld door; industrie; positie bekleed; originele omroep; bezeten door; opgericht door; distributieformaat; hoofdkantoorlocatie; effectenbeurs; valuta; moederorganisatie; chief executive officer; directeur/manager; eigenaar van; operator; lid van; werkgever; voorzitter; platform; dochteronderneming; rechtsvorm; uitgever; ontwikkelaar; merk; bedrijfsdivisie; locatie van ontstaan; maker.\n",
       "4        Given phrases that describe the relationship between two words/phrases as options, extract the word/phrase pair and the corresponding lexical relationship between them from the input text. The output format should be \"relation1: word1, word2; relation2: word3, word4\". Options: product/materiaal geproduceerd, fabrikant, verdeeld door, industrie, positie bekleed, originele omroep, bezeten door, opgericht door, distributieformaat, hoofdkantoorlocatie, effectenbeurs, valuta, moederorganisatie, chief executive officer, directeur/manager, eigenaar van, operator, lid van, werkgever, voorzitter, platform, dochteronderneming, rechtsvorm, uitgever, ontwikkelaar, merk, bedrijfsdivisie, locatie van ontstaan, maker.\n",
       "                                                                                                                                                                                                                                                                                                                                                                           ...                                                                                                                                                                                                                                                                                                                                                                   \n",
       "11395                                         Given the input sentence, please extract the subject and object containing a certain relation in the sentence according to the following relation types, in the format of \"relation1: word1, word2; relation2: word3, word4\". Relations include: product/materiaal geproduceerd; fabrikant; verdeeld door; industrie; positie bekleed; originele omroep; bezeten door; opgericht door; distributieformaat; hoofdkantoorlocatie; effectenbeurs; valuta; moederorganisatie; chief executive officer; directeur/manager; eigenaar van; operator; lid van; werkgever; voorzitter; platform; dochteronderneming; rechtsvorm; uitgever; ontwikkelaar; merk; bedrijfsdivisie; locatie van ontstaan; maker.\n",
       "11396    Given phrases that describe the relationship between two words/phrases as options, extract the word/phrase pair and the corresponding lexical relationship between them from the input text. The output format should be \"relation1: word1, word2; relation2: word3, word4\". Options: product/materiaal geproduceerd, fabrikant, verdeeld door, industrie, positie bekleed, originele omroep, bezeten door, opgericht door, distributieformaat, hoofdkantoorlocatie, effectenbeurs, valuta, moederorganisatie, chief executive officer, directeur/manager, eigenaar van, operator, lid van, werkgever, voorzitter, platform, dochteronderneming, rechtsvorm, uitgever, ontwikkelaar, merk, bedrijfsdivisie, locatie van ontstaan, maker.\n",
       "11397                                         Given the input sentence, please extract the subject and object containing a certain relation in the sentence according to the following relation types, in the format of \"relation1: word1, word2; relation2: word3, word4\". Relations include: product/materiaal geproduceerd; fabrikant; verdeeld door; industrie; positie bekleed; originele omroep; bezeten door; opgericht door; distributieformaat; hoofdkantoorlocatie; effectenbeurs; valuta; moederorganisatie; chief executive officer; directeur/manager; eigenaar van; operator; lid van; werkgever; voorzitter; platform; dochteronderneming; rechtsvorm; uitgever; ontwikkelaar; merk; bedrijfsdivisie; locatie van ontstaan; maker.\n",
       "11398    Given phrases that describe the relationship between two words/phrases as options, extract the word/phrase pair and the corresponding lexical relationship between them from the input text. The output format should be \"relation1: word1, word2; relation2: word3, word4\". Options: product/materiaal geproduceerd, fabrikant, verdeeld door, industrie, positie bekleed, originele omroep, bezeten door, opgericht door, distributieformaat, hoofdkantoorlocatie, effectenbeurs, valuta, moederorganisatie, chief executive officer, directeur/manager, eigenaar van, operator, lid van, werkgever, voorzitter, platform, dochteronderneming, rechtsvorm, uitgever, ontwikkelaar, merk, bedrijfsdivisie, locatie van ontstaan, maker.\n",
       "11399                                         Given the input sentence, please extract the subject and object containing a certain relation in the sentence according to the following relation types, in the format of \"relation1: word1, word2; relation2: word3, word4\". Relations include: product/materiaal geproduceerd; fabrikant; verdeeld door; industrie; positie bekleed; originele omroep; bezeten door; opgericht door; distributieformaat; hoofdkantoorlocatie; effectenbeurs; valuta; moederorganisatie; chief executive officer; directeur/manager; eigenaar van; operator; lid van; werkgever; voorzitter; platform; dochteronderneming; rechtsvorm; uitgever; ontwikkelaar; merk; bedrijfsdivisie; locatie van ontstaan; maker.\n",
       "Name: instruction_translate, Length: 11400, dtype: object"
      ]
     },
     "execution_count": 33,
     "metadata": {},
     "output_type": "execute_result"
    }
   ],
   "source": [
    "datasetdict = load_from_disk(\"../data/FinGPT/fingpt-finred-re\")\n",
    "df = datasetdict['train'].to_pandas()\n",
    "df['instruction_translate'] = df['instruction']\n",
    "\n",
    "for english, dutch in options_lookup_dict.items():\n",
    "    df['instruction_translate'] = df['instruction_translate'].str.replace(english, dutch)\n",
    "\n",
    "df['instruction_translate']"
   ]
  },
  {
   "cell_type": "code",
   "execution_count": 37,
   "metadata": {},
   "outputs": [
    {
     "data": {
      "text/plain": [
       "0        Given phrases that describe the relationship between two words/phrases as options, extract the word/phrase pair and the corresponding lexical relationship between them from the input text. The output format should be \"relation1: word1, word2; relation2: word3, word4\". Options: product/materiaal geproduceerd, fabrikant, verdeeld door, industrie, positie bekleed, originele omroep, bezeten door, opgericht door, distributieformaat, hoofdkantoorlocatie, effectenbeurs, valuta, moederorganisatie, chief executive officer, directeur/manager, eigenaar van, operator, lid van, werkgever, voorzitter, platform, dochteronderneming, rechtsvorm, uitgever, ontwikkelaar, merk, bedrijfsdivisie, locatie van ontstaan, maker.\n",
       "1                                             Given the input sentence, please extract the subject and object containing a certain relation in the sentence according to the following relation types, in the format of \"relation1: word1, word2; relation2: word3, word4\". Relations include: product/materiaal geproduceerd; fabrikant; verdeeld door; industrie; positie bekleed; originele omroep; bezeten door; opgericht door; distributieformaat; hoofdkantoorlocatie; effectenbeurs; valuta; moederorganisatie; chief executive officer; directeur/manager; eigenaar van; operator; lid van; werkgever; voorzitter; platform; dochteronderneming; rechtsvorm; uitgever; ontwikkelaar; merk; bedrijfsdivisie; locatie van ontstaan; maker.\n",
       "2                                                                                                                                                     Utilize the input text as a context reference, choose the right relationship between Apple Inc and Steve Jobs from the options. Options: product/materiaal geproduceerd, fabrikant, verdeeld door, industrie, positie bekleed, originele omroep, bezeten door, opgericht door, distributieformaat, hoofdkantoorlocatie, effectenbeurs, valuta, moederorganisatie, chief executive officer, directeur/manager, eigenaar van, operator, lid van, werkgever, voorzitter, platform, dochteronderneming, rechtsvorm, uitgever, ontwikkelaar, merk, bedrijfsdivisie, locatie van ontstaan, maker.\n",
       "3                                                                                                                                                                       What is the relationship between Apple Inc and Steve Jobs in the context of the input sentence. Choose an answer from: product/materiaal geproduceerd; fabrikant; verdeeld door; industrie; positie bekleed; originele omroep; bezeten door; opgericht door; distributieformaat; hoofdkantoorlocatie; effectenbeurs; valuta; moederorganisatie; chief executive officer; directeur/manager; eigenaar van; operator; lid van; werkgever; voorzitter; platform; dochteronderneming; rechtsvorm; uitgever; ontwikkelaar; merk; bedrijfsdivisie; locatie van ontstaan; maker.\n",
       "4                                                                                                                                                     Utilize the input text as a context reference, choose the right relationship between Apple Inc and Steve Jobs from the options. Options: product/materiaal geproduceerd, fabrikant, verdeeld door, industrie, positie bekleed, originele omroep, bezeten door, opgericht door, distributieformaat, hoofdkantoorlocatie, effectenbeurs, valuta, moederorganisatie, chief executive officer, directeur/manager, eigenaar van, operator, lid van, werkgever, voorzitter, platform, dochteronderneming, rechtsvorm, uitgever, ontwikkelaar, merk, bedrijfsdivisie, locatie van ontstaan, maker.\n",
       "                                                                                                                                                                                                                                                                                                                                                                           ...                                                                                                                                                                                                                                                                                                                                                                   \n",
       "27553                                                                                                                                                                        What is the relationship between eBay and E-commerce in the context of the input sentence. Choose an answer from: product/materiaal geproduceerd; fabrikant; verdeeld door; industrie; positie bekleed; originele omroep; bezeten door; opgericht door; distributieformaat; hoofdkantoorlocatie; effectenbeurs; valuta; moederorganisatie; chief executive officer; directeur/manager; eigenaar van; operator; lid van; werkgever; voorzitter; platform; dochteronderneming; rechtsvorm; uitgever; ontwikkelaar; merk; bedrijfsdivisie; locatie van ontstaan; maker.\n",
       "27554    Given phrases that describe the relationship between two words/phrases as options, extract the word/phrase pair and the corresponding lexical relationship between them from the input text. The output format should be \"relation1: word1, word2; relation2: word3, word4\". Options: product/materiaal geproduceerd, fabrikant, verdeeld door, industrie, positie bekleed, originele omroep, bezeten door, opgericht door, distributieformaat, hoofdkantoorlocatie, effectenbeurs, valuta, moederorganisatie, chief executive officer, directeur/manager, eigenaar van, operator, lid van, werkgever, voorzitter, platform, dochteronderneming, rechtsvorm, uitgever, ontwikkelaar, merk, bedrijfsdivisie, locatie van ontstaan, maker.\n",
       "27555                                         Given the input sentence, please extract the subject and object containing a certain relation in the sentence according to the following relation types, in the format of \"relation1: word1, word2; relation2: word3, word4\". Relations include: product/materiaal geproduceerd; fabrikant; verdeeld door; industrie; positie bekleed; originele omroep; bezeten door; opgericht door; distributieformaat; hoofdkantoorlocatie; effectenbeurs; valuta; moederorganisatie; chief executive officer; directeur/manager; eigenaar van; operator; lid van; werkgever; voorzitter; platform; dochteronderneming; rechtsvorm; uitgever; ontwikkelaar; merk; bedrijfsdivisie; locatie van ontstaan; maker.\n",
       "27556                                                                                                                                      Utilize the input text as a context reference, choose the right relationship between Western Digital and Hard disk drive from the options. Options: product/materiaal geproduceerd, fabrikant, verdeeld door, industrie, positie bekleed, originele omroep, bezeten door, opgericht door, distributieformaat, hoofdkantoorlocatie, effectenbeurs, valuta, moederorganisatie, chief executive officer, directeur/manager, eigenaar van, operator, lid van, werkgever, voorzitter, platform, dochteronderneming, rechtsvorm, uitgever, ontwikkelaar, merk, bedrijfsdivisie, locatie van ontstaan, maker.\n",
       "27557                                                                                                                                                        What is the relationship between Western Digital and Hard disk drive in the context of the input sentence. Choose an answer from: product/materiaal geproduceerd; fabrikant; verdeeld door; industrie; positie bekleed; originele omroep; bezeten door; opgericht door; distributieformaat; hoofdkantoorlocatie; effectenbeurs; valuta; moederorganisatie; chief executive officer; directeur/manager; eigenaar van; operator; lid van; werkgever; voorzitter; platform; dochteronderneming; rechtsvorm; uitgever; ontwikkelaar; merk; bedrijfsdivisie; locatie van ontstaan; maker.\n",
       "Name: instruction_translate, Length: 27558, dtype: object"
      ]
     },
     "execution_count": 37,
     "metadata": {},
     "output_type": "execute_result"
    }
   ],
   "source": [
    "datasetdict = load_from_disk(\"../data/FinGPT/fingpt-finred\")\n",
    "df = datasetdict['train'].to_pandas()\n",
    "df['instruction_translate'] = df['instruction']\n",
    "\n",
    "for english, dutch in options_lookup_dict.items():\n",
    "    df['instruction_translate'] = df['instruction_translate'].str.replace(english, dutch)\n",
    "\n",
    "df['instruction_translate']"
   ]
  },
  {
   "cell_type": "code",
   "execution_count": 47,
   "metadata": {},
   "outputs": [
    {
     "data": {
      "text/plain": [
       "0    Given phrases that describe the relationship between two words/phrases as options, extract the word/phrase pair and the corresponding lexical relationship between them from the input text. The output format should be \"relation1: word1, word2; relation2: word3, word4\". Options: product/material produced, manufacturer, distributed by, industry, position held, original broadcaster, owned by, founded by, distribution format, headquarters location, stock exchange, currency, parent organization, chief executive officer, director/manager, owner of, operator, member of, employer, chairperson, platform, subsidiary, legal form, publisher, developer, brand, business division, location of formation, creator.\n",
       "1                                         Given the input sentence, please extract the subject and object containing a certain relation in the sentence according to the following relation types, in the format of \"relation1: word1, word2; relation2: word3, word4\". Relations include: product/material produced; manufacturer; distributed by; industry; position held; original broadcaster; owned by; founded by; distribution format; headquarters location; stock exchange; currency; parent organization; chief executive officer; director/manager; owner of; operator; member of; employer; chairperson; platform; subsidiary; legal form; publisher; developer; brand; business division; location of formation; creator.\n",
       "2                                                                                                                                                 Utilize the input text as a context reference, choose the right relationship between Apple Inc and Steve Jobs from the options. Options: product/material produced, manufacturer, distributed by, industry, position held, original broadcaster, owned by, founded by, distribution format, headquarters location, stock exchange, currency, parent organization, chief executive officer, director/manager, owner of, operator, member of, employer, chairperson, platform, subsidiary, legal form, publisher, developer, brand, business division, location of formation, creator.\n",
       "3                                                                                                                                                                   What is the relationship between Apple Inc and Steve Jobs in the context of the input sentence. Choose an answer from: product/material produced; manufacturer; distributed by; industry; position held; original broadcaster; owned by; founded by; distribution format; headquarters location; stock exchange; currency; parent organization; chief executive officer; director/manager; owner of; operator; member of; employer; chairperson; platform; subsidiary; legal form; publisher; developer; brand; business division; location of formation; creator.\n",
       "4                                                                                                                                                 Utilize the input text as a context reference, choose the right relationship between Apple Inc and Steve Jobs from the options. Options: product/material produced, manufacturer, distributed by, industry, position held, original broadcaster, owned by, founded by, distribution format, headquarters location, stock exchange, currency, parent organization, chief executive officer, director/manager, owner of, operator, member of, employer, chairperson, platform, subsidiary, legal form, publisher, developer, brand, business division, location of formation, creator.\n",
       "5                                                                                                                                                                   What is the relationship between Apple Inc and Steve Jobs in the context of the input sentence. Choose an answer from: product/material produced; manufacturer; distributed by; industry; position held; original broadcaster; owned by; founded by; distribution format; headquarters location; stock exchange; currency; parent organization; chief executive officer; director/manager; owner of; operator; member of; employer; chairperson; platform; subsidiary; legal form; publisher; developer; brand; business division; location of formation; creator.\n",
       "6    Given phrases that describe the relationship between two words/phrases as options, extract the word/phrase pair and the corresponding lexical relationship between them from the input text. The output format should be \"relation1: word1, word2; relation2: word3, word4\". Options: product/material produced, manufacturer, distributed by, industry, position held, original broadcaster, owned by, founded by, distribution format, headquarters location, stock exchange, currency, parent organization, chief executive officer, director/manager, owner of, operator, member of, employer, chairperson, platform, subsidiary, legal form, publisher, developer, brand, business division, location of formation, creator.\n",
       "7                                         Given the input sentence, please extract the subject and object containing a certain relation in the sentence according to the following relation types, in the format of \"relation1: word1, word2; relation2: word3, word4\". Relations include: product/material produced; manufacturer; distributed by; industry; position held; original broadcaster; owned by; founded by; distribution format; headquarters location; stock exchange; currency; parent organization; chief executive officer; director/manager; owner of; operator; member of; employer; chairperson; platform; subsidiary; legal form; publisher; developer; brand; business division; location of formation; creator.\n",
       "8                                                                                                                                              Utilize the input text as a context reference, choose the right relationship between Vikram Pandit and Citigroup from the options. Options: product/material produced, manufacturer, distributed by, industry, position held, original broadcaster, owned by, founded by, distribution format, headquarters location, stock exchange, currency, parent organization, chief executive officer, director/manager, owner of, operator, member of, employer, chairperson, platform, subsidiary, legal form, publisher, developer, brand, business division, location of formation, creator.\n",
       "9                                                                                                                                                                What is the relationship between Vikram Pandit and Citigroup in the context of the input sentence. Choose an answer from: product/material produced; manufacturer; distributed by; industry; position held; original broadcaster; owned by; founded by; distribution format; headquarters location; stock exchange; currency; parent organization; chief executive officer; director/manager; owner of; operator; member of; employer; chairperson; platform; subsidiary; legal form; publisher; developer; brand; business division; location of formation; creator.\n",
       "Name: instruction, dtype: object"
      ]
     },
     "execution_count": 47,
     "metadata": {},
     "output_type": "execute_result"
    }
   ],
   "source": [
    "df['instruction'][:10]"
   ]
  },
  {
   "cell_type": "code",
   "execution_count": 58,
   "metadata": {},
   "outputs": [],
   "source": [
    "str1 = \"Given phrases that describe the relationship between two words/phrases as options, extract the word/phrase pair and the corresponding lexical relationship between them from the input text. The output format should be \\\"relation1: word1, word2; relation2: word3, word4\\\"\"\n",
    "str2 = \"Given the input sentence, please extract the subject and object containing a certain relation in the sentence according to the following relation types, in the format of \\\"relation1: word1, word2; relation2: word3, word4\\\". Relations include:\"\n",
    "str3 = \"Utilize the input text as a context reference, choose the right relationship between\"\n",
    "str4 = \"What is the relationship between\""
   ]
  },
  {
   "cell_type": "code",
   "execution_count": 64,
   "metadata": {},
   "outputs": [
    {
     "data": {
      "text/plain": [
       "True"
      ]
     },
     "execution_count": 64,
     "metadata": {},
     "output_type": "execute_result"
    }
   ],
   "source": [
    "df.shape[0] == df['instruction'].str.contains(str1).sum() + df['instruction'].str.contains(str2).sum() + df['instruction'].str.contains(str3).sum() + df['instruction'].str.contains(str4).sum()"
   ]
  },
  {
   "cell_type": "code",
   "execution_count": 67,
   "metadata": {},
   "outputs": [],
   "source": [
    "template_1 = \"Given phrases that describe the relationship between two words/phrases as options, extract the word/phrase pair and the corresponding lexical relationship between them from the input text. The output format should be \\\"relation1: word1, word2; relation2: word3, word4\\\". Options:\"\n",
    "template = \"Given the input sentence, please extract the subject and object containing a certain relation in the sentence according to the following relation types, in the format of \\\"relation1: word1, word2; relation2: word3, word4\\\". Relations include:\""
   ]
  },
  {
   "cell_type": "code",
   "execution_count": 81,
   "metadata": {},
   "outputs": [],
   "source": [
    "#literal_sting = f\"Utilize the input text as a context reference, choose the right relationship between {tup[0]} and {tup[1]} from the options. Options:.\"\n",
    "pattern = r\"Utilize the input text as a context reference, choose the right relationship between .* and .* Options: .*\"\n",
    "matchke = df[df['instruction'].str.match(pattern)]"
   ]
  },
  {
   "cell_type": "code",
   "execution_count": 102,
   "metadata": {},
   "outputs": [],
   "source": [
    "lookup = {\n",
    "\"Utilize the input text as a context reference, choose the right relationship between\":\"Gebruik de invoertekst als een contextreferentie, kies de juiste relatie tussen\",\n",
    "\"and\": \"en\",\n",
    "\"Options\": \"Opties\",\n",
    "\"from the options\": \"uit de opties\"\n",
    "}"
   ]
  },
  {
   "cell_type": "code",
   "execution_count": 105,
   "metadata": {},
   "outputs": [
    {
     "name": "stderr",
     "output_type": "stream",
     "text": [
      "/tmp/ipykernel_4834/2616182097.py:2: SettingWithCopyWarning: \n",
      "A value is trying to be set on a copy of a slice from a DataFrame.\n",
      "Try using .loc[row_indexer,col_indexer] = value instead\n",
      "\n",
      "See the caveats in the documentation: https://pandas.pydata.org/pandas-docs/stable/user_guide/indexing.html#returning-a-view-versus-a-copy\n",
      "  matchke['instruction_translate'] = matchke['instruction_translate'].str.replace(english, dutch)\n"
     ]
    }
   ],
   "source": [
    "for english, dutch in lookup.items():\n",
    "    matchke['instruction_translate'] = matchke['instruction_translate'].str.replace(english, dutch)"
   ]
  },
  {
   "cell_type": "code",
   "execution_count": 107,
   "metadata": {},
   "outputs": [
    {
     "data": {
      "text/plain": [
       "2                              Gebruik de invoertekst als een contextreferentie, kies de juiste relatie tussenn Apple Inc en Steve Jobs uit de opties. Opties: product/materiaal geproduceerd, fabrikant, verdeeld door, industrie, positie bekleed, originele omroep, bezeten door, opgericht door, distributieformaat, hoofdkantoorlocatie, effectenbeurs, valuta, moederorganisatie, chief executive officer, directeur/manager, eigenaar van, operator, lid van, werkgever, voorzitter, platform, dochteronderneming, rechtsvorm, uitgever, ontwikkelaar, merk, bedrijfsdivisie, locatie van ontstaan, maker.\n",
       "4                              Gebruik de invoertekst als een contextreferentie, kies de juiste relatie tussenn Apple Inc en Steve Jobs uit de opties. Opties: product/materiaal geproduceerd, fabrikant, verdeeld door, industrie, positie bekleed, originele omroep, bezeten door, opgericht door, distributieformaat, hoofdkantoorlocatie, effectenbeurs, valuta, moederorganisatie, chief executive officer, directeur/manager, eigenaar van, operator, lid van, werkgever, voorzitter, platform, dochteronderneming, rechtsvorm, uitgever, ontwikkelaar, merk, bedrijfsdivisie, locatie van ontstaan, maker.\n",
       "8                            Gebruik de invoertekst als een contextreferentie, kies de juiste relatie tussenn Vikram Penit en Citigroup uit de opties. Opties: product/materiaal geproduceerd, fabrikant, verdeeld door, industrie, positie bekleed, originele omroep, bezeten door, opgericht door, distributieformaat, hoofdkantoorlocatie, effectenbeurs, valuta, moederorganisatie, chief executive officer, directeur/manager, eigenaar van, operator, lid van, werkgever, voorzitter, platform, dochteronderneming, rechtsvorm, uitgever, ontwikkelaar, merk, bedrijfsdivisie, locatie van ontstaan, maker.\n",
       "12                  Gebruik de invoertekst als een contextreferentie, kies de juiste relatie tussenn Lehman Brothers en investment bank uit de opties. Opties: product/materiaal geproduceerd, fabrikant, verdeeld door, industrie, positie bekleed, originele omroep, bezeten door, opgericht door, distributieformaat, hoofdkantoorlocatie, effectenbeurs, valuta, moederorganisatie, chief executive officer, directeur/manager, eigenaar van, operator, lid van, werkgever, voorzitter, platform, dochteronderneming, rechtsvorm, uitgever, ontwikkelaar, merk, bedrijfsdivisie, locatie van ontstaan, maker.\n",
       "14                       Gebruik de invoertekst als een contextreferentie, kies de juiste relatie tussenn Lehman Brothers en investment uit de opties. Opties: product/materiaal geproduceerd, fabrikant, verdeeld door, industrie, positie bekleed, originele omroep, bezeten door, opgericht door, distributieformaat, hoofdkantoorlocatie, effectenbeurs, valuta, moederorganisatie, chief executive officer, directeur/manager, eigenaar van, operator, lid van, werkgever, voorzitter, platform, dochteronderneming, rechtsvorm, uitgever, ontwikkelaar, merk, bedrijfsdivisie, locatie van ontstaan, maker.\n",
       "                                                                                                                                                                                                                                                                                                           ...                                                                                                                                                                                                                                                                                                   \n",
       "27540                               Gebruik de invoertekst als een contextreferentie, kies de juiste relatie tussenn Airbus en aircraft uit de opties. Opties: product/materiaal geproduceerd, fabrikant, verdeeld door, industrie, positie bekleed, originele omroep, bezeten door, opgericht door, distributieformaat, hoofdkantoorlocatie, effectenbeurs, valuta, moederorganisatie, chief executive officer, directeur/manager, eigenaar van, operator, lid van, werkgever, voorzitter, platform, dochteronderneming, rechtsvorm, uitgever, ontwikkelaar, merk, bedrijfsdivisie, locatie van ontstaan, maker.\n",
       "27544                                Gebruik de invoertekst als een contextreferentie, kies de juiste relatie tussenn Dettol en Reckitt uit de opties. Opties: product/materiaal geproduceerd, fabrikant, verdeeld door, industrie, positie bekleed, originele omroep, bezeten door, opgericht door, distributieformaat, hoofdkantoorlocatie, effectenbeurs, valuta, moederorganisatie, chief executive officer, directeur/manager, eigenaar van, operator, lid van, werkgever, voorzitter, platform, dochteronderneming, rechtsvorm, uitgever, ontwikkelaar, merk, bedrijfsdivisie, locatie van ontstaan, maker.\n",
       "27548    Gebruik de invoertekst als een contextreferentie, kies de juiste relatie tussenn Mark Carney en Governor of the Bank of Englen uit de opties. Opties: product/materiaal geproduceerd, fabrikant, verdeeld door, industrie, positie bekleed, originele omroep, bezeten door, opgericht door, distributieformaat, hoofdkantoorlocatie, effectenbeurs, valuta, moederorganisatie, chief executive officer, directeur/manager, eigenaar van, operator, lid van, werkgever, voorzitter, platform, dochteronderneming, rechtsvorm, uitgever, ontwikkelaar, merk, bedrijfsdivisie, locatie van ontstaan, maker.\n",
       "27552                               Gebruik de invoertekst als een contextreferentie, kies de juiste relatie tussenn eBay en E-commerce uit de opties. Opties: product/materiaal geproduceerd, fabrikant, verdeeld door, industrie, positie bekleed, originele omroep, bezeten door, opgericht door, distributieformaat, hoofdkantoorlocatie, effectenbeurs, valuta, moederorganisatie, chief executive officer, directeur/manager, eigenaar van, operator, lid van, werkgever, voorzitter, platform, dochteronderneming, rechtsvorm, uitgever, ontwikkelaar, merk, bedrijfsdivisie, locatie van ontstaan, maker.\n",
       "27556               Gebruik de invoertekst als een contextreferentie, kies de juiste relatie tussenn Western Digital en Hard disk drive uit de opties. Opties: product/materiaal geproduceerd, fabrikant, verdeeld door, industrie, positie bekleed, originele omroep, bezeten door, opgericht door, distributieformaat, hoofdkantoorlocatie, effectenbeurs, valuta, moederorganisatie, chief executive officer, directeur/manager, eigenaar van, operator, lid van, werkgever, voorzitter, platform, dochteronderneming, rechtsvorm, uitgever, ontwikkelaar, merk, bedrijfsdivisie, locatie van ontstaan, maker.\n",
       "Name: instruction_translate, Length: 8079, dtype: object"
      ]
     },
     "execution_count": 107,
     "metadata": {},
     "output_type": "execute_result"
    }
   ],
   "source": [
    "matchke['instruction_translate']"
   ]
  }
 ],
 "metadata": {
  "kernelspec": {
   "display_name": "fin-geit-36krB_l6-py3.10",
   "language": "python",
   "name": "python3"
  },
  "language_info": {
   "codemirror_mode": {
    "name": "ipython",
    "version": 3
   },
   "file_extension": ".py",
   "mimetype": "text/x-python",
   "name": "python",
   "nbconvert_exporter": "python",
   "pygments_lexer": "ipython3",
   "version": "3.10.4"
  }
 },
 "nbformat": 4,
 "nbformat_minor": 2
}

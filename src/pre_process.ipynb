{
 "cells": [
  {
   "cell_type": "code",
   "execution_count": 22,
   "metadata": {},
   "outputs": [],
   "source": [
    "#imports\n",
    "from datasets import load_from_disk\n",
    "import pandas as pd"
   ]
  },
  {
   "cell_type": "markdown",
   "metadata": {},
   "source": [
    "### General"
   ]
  },
  {
   "cell_type": "code",
   "execution_count": 248,
   "metadata": {},
   "outputs": [],
   "source": [
    "# A lookup dict containing translations from EN to NL\n",
    "#logic: of sentences can be found: https://github.com/AI4Finance-Foundation/FinGPT/blob/3b0e779e5c1a547ef1900e7bc5ea8ac37cd65d34/fingpt/FinGPT_Benchmark/data/prepare_data.ipynb#L1922 section finred\n",
    "#FinRED/relations.txt can be found: https://github.com/AI4Finance-Foundation/FinGPT/blob/master/fingpt/FinGPT_Benchmark/benchmarks/finred.py\n",
    "options_lookup_dict = {\n",
    "    'product_or_material_produced': 'product/materiaal geproduceerd',\n",
    "    'product or material produced': 'product/materiaal geproduceerd',\n",
    "    'product/material produced': 'product/materiaal geproduceerd',\n",
    "    'manufacturer': 'fabrikant',\n",
    "    'distributed_by':   'verdeeld door',\n",
    "    'distributed by':   'verdeeld door',\n",
    "    'industry': 'industrie',\n",
    "    'position_held':    'positie bekleed',\n",
    "    'position held':    'positie bekleed',\n",
    "    'original_broadcaster': 'originele omroep',\n",
    "    'original broadcaster': 'originele omroep',\n",
    "    'owned_by': 'bezeten door',\n",
    "    'owned by': 'bezeten door',\n",
    "    'founded_by':   'opgericht door',\n",
    "    'founded by':   'opgericht door',\n",
    "    'distribution_format':  'distributieformaat',\n",
    "    'distribution format':  'distributieformaat',\n",
    "    'headquarters_location':    'hoofdkantoorlocatie',\n",
    "    'headquarters location':    'hoofdkantoorlocatie',\n",
    "    'stock_exchange':   'effectenbeurs',\n",
    "    'stock exchange':   'effectenbeurs',\n",
    "    'currency': 'valuta',\n",
    "    'parent_organization':  'moederorganisatie',\n",
    "    'parent organization':  'moederorganisatie',\n",
    "    'chief_executive_officer':  'chief executive officer',\n",
    "    'chief executive officer':  'chief executive officer',\n",
    "    'director_/_manager':   'directeur/manager',\n",
    "    'director/manager':   'directeur/manager',\n",
    "    'owner_of': 'eigenaar van',\n",
    "    'owner of': 'eigenaar van',\n",
    "    'operator': 'operator',\n",
    "    'member_of':    'lid van',\n",
    "    'member of':    'lid van',\n",
    "    'employer': 'werkgever',\n",
    "    'chairperson':  'voorzitter',\n",
    "    'platform': 'platform',\n",
    "    'subsidiary':   'dochteronderneming',\n",
    "    'legal_form':   'rechtsvorm',\n",
    "    'legal form':   'rechtsvorm',\n",
    "    'publisher':    'uitgever',\n",
    "    'developer':    'ontwikkelaar',\n",
    "    'brand':    'merk',\n",
    "    'business_division':    'bedrijfsdivisie',\n",
    "    'business division':    'bedrijfsdivisie',\n",
    "    'location_of_formation':    'locatie van ontstaan',\n",
    "    'location of formation':    'locatie van ontstaan',\n",
    "    'creator':  'maker',\n",
    "}"
   ]
  },
  {
   "cell_type": "markdown",
   "metadata": {},
   "source": [
    "### FinRed"
   ]
  },
  {
   "cell_type": "code",
   "execution_count": 157,
   "metadata": {},
   "outputs": [],
   "source": [
    "pattern_1 = r\"Utilize the input text as a context reference, choose the right relationship between .* and .* Options: .*\"\n",
    "pattern_2 = r\"What is the relationship between .* and .* in the context of the input sentence. Choose an answer from: .*\"\n",
    "pattern_3 = r\"Given phrases that describe the relationship between two words/phrases as options, extract the word/phrase pair and the corresponding lexical relationship between them from the input text. The output format should be \\\"relation1: word1, word2; relation2: word3, word4\\\". Options: .*\"\n",
    "pattern_4 = r\"Given the input sentence, please extract the subject and object containing a certain relation in the sentence according to the following relation types, in the format of \\\"relation1: word1, word2; relation2: word3, word4\\\". Relations include: .*\"\n",
    "\n",
    "\n",
    "finred_lookup = {\n",
    "    #patter_3\n",
    "    \"Given phrases that describe the relationship between two words/phrases as options, extract the word/phrase pair and the corresponding lexical relationship between them from the input text. The output format should be \\\"relation1: word1, word2; relation2: word3, word4\\\"\" : \"Gegeven zinnen die de relatie tussen twee woorden/zinnen beschrijven als opties, haal het woord/zinspaar en de overeenkomstige lexicale relatie tussen hen uit de invoertekst. het formaat van het resultaat moet zijn \\\"relatie1: woord1, woord2; relatie2: woord3, woord4\\\"\",\n",
    "    #pattern_4\n",
    "    \"Given the input sentence, please extract the subject and object containing a certain relation in the sentence according to the following relation types, in the format of \\\"relation1: word1, word2; relation2: word3, word4\\\". Relations include\": \"Gegeven de invoerzin, gelieve het onderwerp en het object te extraheren dat een bepaalde relatie in de zin bevat volgens de volgende soorten relaties, in het formaat van \\\"relatie1: woord1, woord2; relatie2: woord3, woord4\\\". Relaties zijn onder andere\",\n",
    "    #patter_1\n",
    "    \"Utilize the input text as a context reference, choose the right relationship between\":\"Gebruik de invoertekst als een contextreferentie, kies de juiste relatie tussen\",\n",
    "    \"and\": \"en\",\n",
    "    \"Options\": \"Opties\",\n",
    "    \"from the options\": \"uit de opties\",\n",
    "    #patter_2\n",
    "    \"What is the relationship between\": \"Wat is de relatie tussen\",\n",
    "    \"in the context of the input sentence. Choose an answer from\": \"in de context van de invoerzin. Kies een antwoord uit\",\n",
    "}"
   ]
  },
  {
   "cell_type": "code",
   "execution_count": 121,
   "metadata": {},
   "outputs": [
    {
     "data": {
      "text/plain": [
       "True"
      ]
     },
     "execution_count": 121,
     "metadata": {},
     "output_type": "execute_result"
    }
   ],
   "source": [
    "# Analysis\n",
    "df.shape[0] == df['instruction'].str.match(pattern_1).sum() + df['instruction'].str.match(pattern_2).sum() + df['instruction'].str.match(pattern_3).sum() + df['instruction'].str.match(pattern_4).sum()\n"
   ]
  },
  {
   "cell_type": "code",
   "execution_count": 179,
   "metadata": {},
   "outputs": [],
   "source": [
    "datasetdict = load_from_disk(\"../data/FinGPT/fingpt-finred\")\n",
    "for split in datasetdict:\n",
    "    df = datasetdict[split].to_pandas()\n",
    "\n",
    "    for english, dutch in finred_lookup.items():\n",
    "        df['instruction'] = df['instruction'].str.replace(english, dutch)\n",
    "\n",
    "    for english, dutch in options_lookup_dict.items():\n",
    "        df['instruction'] = df['instruction'].str.replace(english, dutch)\n",
    "\n",
    "    df['instruction'] = df['instruction'].str.replace(\"enere\", \"andere\")\n",
    "\n",
    "    datasetdict[split] = Dataset.from_pandas(df)"
   ]
  },
  {
   "cell_type": "code",
   "execution_count": 181,
   "metadata": {},
   "outputs": [
    {
     "data": {
      "application/vnd.jupyter.widget-view+json": {
       "model_id": "7a806e5f674e4957bc7b79b33018c1e5",
       "version_major": 2,
       "version_minor": 0
      },
      "text/plain": [
       "Saving the dataset (0/1 shards):   0%|          | 0/27558 [00:00<?, ? examples/s]"
      ]
     },
     "metadata": {},
     "output_type": "display_data"
    },
    {
     "data": {
      "application/vnd.jupyter.widget-view+json": {
       "model_id": "a0e2fe6e75cb41dbb81e8c441b8b12a2",
       "version_major": 2,
       "version_minor": 0
      },
      "text/plain": [
       "Saving the dataset (0/1 shards):   0%|          | 0/5112 [00:00<?, ? examples/s]"
      ]
     },
     "metadata": {},
     "output_type": "display_data"
    }
   ],
   "source": [
    "datasetdict.save_to_disk(\"../data/finget/fingpt-finred-nl\")\n"
   ]
  },
  {
   "cell_type": "markdown",
   "metadata": {},
   "source": [
    "### FinRed cls"
   ]
  },
  {
   "cell_type": "code",
   "execution_count": 209,
   "metadata": {},
   "outputs": [
    {
     "data": {
      "text/plain": [
       "0"
      ]
     },
     "execution_count": 209,
     "metadata": {},
     "output_type": "execute_result"
    }
   ],
   "source": [
    "datasetdict = load_from_disk(\"../data/FinGPT/fingpt-finred-cls\")\n",
    "df = datasetdict['train'].to_pandas()\n",
    "df['instruction'].str.match(pattern_1).sum() + df['instruction'].str.match(pattern_2).sum() + df['instruction'].str.match(pattern_3).sum() + df['instruction'].str.match(pattern_4).sum()\n"
   ]
  },
  {
   "cell_type": "code",
   "execution_count": 205,
   "metadata": {},
   "outputs": [
    {
     "data": {
      "text/plain": [
       "8079"
      ]
     },
     "execution_count": 205,
     "metadata": {},
     "output_type": "execute_result"
    }
   ],
   "source": [
    "template_1 = r\"Utilize the input text as a context reference, choose the right relationship between .* and .* from the options.\\nOptions\"\n",
    "template_2 = r\"Refer to the input text as context and select the correct relationship between .* and .* from the available options.\\nOptions:\"\n",
    "template_3 = r\"Take context from the input text and decide on the accurate relationship between .* and .* from the options provided.\\nOptions:\"\n",
    "template_4 = r\"What is the relationship between .* and .* in the context of the input sentence.\\nOptions:\"\n",
    "template_5 = r\"In the context of the input sentence, determine the relationship between .* and .*.\\nOptions\"\n",
    "template_6 = r\"Analyze the relationship between .* and .* within the context of the input sentence.\\nOptions\"\n",
    "df['instruction'].str.match(template_6).sum()\n"
   ]
  },
  {
   "cell_type": "markdown",
   "metadata": {},
   "source": [
    "#### Analysis"
   ]
  },
  {
   "cell_type": "code",
   "execution_count": 208,
   "metadata": {},
   "outputs": [
    {
     "data": {
      "text/plain": [
       "True"
      ]
     },
     "execution_count": 208,
     "metadata": {},
     "output_type": "execute_result"
    }
   ],
   "source": [
    "sum = 0\n",
    "for template in [template_1, template_2, template_3, template_4, template_5, template_6]:\n",
    "    sum += df['instruction'].str.match(template).sum()\n",
    "\n",
    "sum == df.shape[0]"
   ]
  },
  {
   "cell_type": "code",
   "execution_count": 227,
   "metadata": {},
   "outputs": [],
   "source": [
    "finred_cls_lookup = {\n",
    "\"Utilize the input text as a context reference, choose the right relationship between\" : \"Gebruik de invoertekst als contextreferentie, kies de juiste relatie tussen\",\n",
    "\"from the options.\\nOptions\" : \"uit de opties.\\nOpties\",\n",
    "\"Refer to the input text as context and select the correct relationship between\": \"Verwijs naar de invoertekst als context en selecteer de juiste relatie tussen\",\n",
    "\"from the available options.\\nOptions:\" : \"uit de beschikbare opties.\\nOpties\",\n",
    "\"Take context from the input text and decide on the accurate relationship between\" : \"Haal de context uit de invoertekst en beslis over de nauwkeurige relatie tussen\",\n",
    "\"from the options provided.\\nOptions:\" : \"uit de verstrekte opties\\nOpties\",\n",
    "\"What is the relationship between\" : \"Wat is de relatie tussen\",\n",
    "\"in the context of the input sentence.\\nOptions:\" : \"in de context van de invoerzin.\\nOpties\",\n",
    "\"In the context of the input sentence, determine the relationship between\" : \"In de context van de invoerzin, bepaal de relatie tussen\",\n",
    "\"Analyze the relationship between\" : \"Analyseer de relatie tussen\",\n",
    "\"within the context of the input sentence.\\nOptions\" : \"binnen de context van de invoerzin.\\nOpties\",\n",
    "\"and\": \"en\",\n",
    "\"\\Options\": \"\\Opties\",\n",
    "}\n"
   ]
  },
  {
   "cell_type": "code",
   "execution_count": 228,
   "metadata": {},
   "outputs": [],
   "source": [
    "datasetdict = load_from_disk(\"../data/FinGPT/fingpt-finred-cls\")\n",
    "for split in datasetdict:\n",
    "    df = datasetdict[split].to_pandas()\n",
    "\n",
    "    for english, dutch in finred_cls_lookup.items():\n",
    "        df['instruction'] = df['instruction'].str.replace(english, dutch)\n",
    "\n",
    "    for english, dutch in options_lookup_dict.items():\n",
    "        df['instruction'] = df['instruction'].str.replace(english, dutch)\n",
    "\n",
    "    datasetdict[split] = Dataset.from_pandas(df)"
   ]
  },
  {
   "cell_type": "code",
   "execution_count": 230,
   "metadata": {},
   "outputs": [
    {
     "data": {
      "application/vnd.jupyter.widget-view+json": {
       "model_id": "5b203cf320454567b7f7c9f4bad82931",
       "version_major": 2,
       "version_minor": 0
      },
      "text/plain": [
       "Saving the dataset (0/1 shards):   0%|          | 0/48474 [00:00<?, ? examples/s]"
      ]
     },
     "metadata": {},
     "output_type": "display_data"
    },
    {
     "data": {
      "application/vnd.jupyter.widget-view+json": {
       "model_id": "c9ef25b3154b40a5a06285dcfaf5415a",
       "version_major": 2,
       "version_minor": 0
      },
      "text/plain": [
       "Saving the dataset (0/1 shards):   0%|          | 0/8928 [00:00<?, ? examples/s]"
      ]
     },
     "metadata": {},
     "output_type": "display_data"
    }
   ],
   "source": [
    "datasetdict.save_to_disk(\"../data/finget/fingpt-finred-cls-nl\")"
   ]
  },
  {
   "cell_type": "markdown",
   "metadata": {},
   "source": [
    "### FinRed re"
   ]
  },
  {
   "cell_type": "code",
   "execution_count": 231,
   "metadata": {},
   "outputs": [],
   "source": [
    "datasetdict = load_from_disk(\"../data/FinGPT/fingpt-finred-re\")\n",
    "df = datasetdict['train'].to_pandas()"
   ]
  },
  {
   "cell_type": "code",
   "execution_count": 240,
   "metadata": {},
   "outputs": [
    {
     "data": {
      "text/plain": [
       "True"
      ]
     },
     "execution_count": 240,
     "metadata": {},
     "output_type": "execute_result"
    }
   ],
   "source": [
    "template_1 = r\"Given phrases that describe the relationship between two words/phrases as options, extract the word/phrase pair and the corresponding lexical relationship between them from the input text. The output format should be \\\"relation1: word1, word2; relation2: word3, word4\\\".\"\n",
    "template_2 = r\"Given the input sentence, please extract the subject and object containing a certain relation in the sentence according to the following relation types, in the format of \\\"relation1: word1, word2; relation2: word3, word4\\\". Relations include:\"\n",
    "\n",
    "df[\"instruction\"].str.match(template_1).sum() + df[\"instruction\"].str.match(template_2).sum() == df.shape[0]"
   ]
  },
  {
   "cell_type": "code",
   "execution_count": 243,
   "metadata": {},
   "outputs": [],
   "source": [
    "finred_re_lookup = {\n",
    "    \"Given phrases that describe the relationship between two words/phrases as options, extract the word/phrase pair and the corresponding lexical relationship between them from the input text. The output format should be \\\"relation1: word1, word2; relation2: word3, word4\\\".\" : \"Gegeven zinnen die de relatie tussen twee woorden/zinnen beschrijven als opties, extraheren vanuit de invoertekst het woord/zinspaar en de overeenkomstige lexicaire relatie tussen hen. Het uitvoerformaat moet zijn \\\"relatie1: woord1, woord2; relatie2: woord3, woord4\\\".\",\n",
    "    \"Given the input sentence, please extract the subject and object containing a certain relation in the sentence according to the following relation types, in the format of \\\"relation1: word1, word2; relation2: word3, word4\\\". Relations include:\" : \"Gegeven de invoerzin, gelieve het onderwerp en object te extraheren dat een bepaalde relatie in de zin bevat volgens de volgende soorten relaties, in het formaat van \\\"relatie1: woord1, woord2; relatie2: woord3, woord4\\\". Relaties omvatten:\"\n",
    "}"
   ]
  },
  {
   "cell_type": "code",
   "execution_count": 244,
   "metadata": {},
   "outputs": [],
   "source": [
    "datasetdict = load_from_disk(\"../data/FinGPT/fingpt-finred-re\")\n",
    "for split in datasetdict:\n",
    "    df = datasetdict[split].to_pandas()\n",
    "\n",
    "    for english, dutch in finred_re_lookup.items():\n",
    "        df['instruction'] = df['instruction'].str.replace(english, dutch)\n",
    "\n",
    "    for english, dutch in options_lookup_dict.items():\n",
    "        df['instruction'] = df['instruction'].str.replace(english, dutch)\n",
    "\n",
    "    datasetdict[split] = Dataset.from_pandas(df)"
   ]
  },
  {
   "cell_type": "code",
   "execution_count": 247,
   "metadata": {},
   "outputs": [
    {
     "data": {
      "application/vnd.jupyter.widget-view+json": {
       "model_id": "c1d2e3c55e6346d29583d20f1c82a3c5",
       "version_major": 2,
       "version_minor": 0
      },
      "text/plain": [
       "Saving the dataset (0/1 shards):   0%|          | 0/11400 [00:00<?, ? examples/s]"
      ]
     },
     "metadata": {},
     "output_type": "display_data"
    },
    {
     "data": {
      "application/vnd.jupyter.widget-view+json": {
       "model_id": "3929696c840949acb346d8efb187c366",
       "version_major": 2,
       "version_minor": 0
      },
      "text/plain": [
       "Saving the dataset (0/1 shards):   0%|          | 0/2136 [00:00<?, ? examples/s]"
      ]
     },
     "metadata": {},
     "output_type": "display_data"
    }
   ],
   "source": [
    "datasetdict.save_to_disk(\"../data/finget/fingpt-finred-re-nl\")"
   ]
  }
 ],
 "metadata": {
  "kernelspec": {
   "display_name": "fin-geit-36krB_l6-py3.10",
   "language": "python",
   "name": "python3"
  },
  "language_info": {
   "codemirror_mode": {
    "name": "ipython",
    "version": 3
   },
   "file_extension": ".py",
   "mimetype": "text/x-python",
   "name": "python",
   "nbconvert_exporter": "python",
   "pygments_lexer": "ipython3",
   "version": "3.10.4"
  }
 },
 "nbformat": 4,
 "nbformat_minor": 2
}

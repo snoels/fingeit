{
 "cells": [
  {
   "cell_type": "code",
   "execution_count": 6,
   "metadata": {},
   "outputs": [],
   "source": [
    "import sys\n",
    "sys.path.append('..')\n",
    "\n",
    "from datasets import load_from_disk\n",
    "from src.data_processing.translations_fingpt import ner_cls_translations,ner_translations, finred_re_translations, finred_general, finred_translations, finred_cls_translations, headline_translations"
   ]
  },
  {
   "cell_type": "code",
   "execution_count": 7,
   "metadata": {},
   "outputs": [],
   "source": [
    "def translate_sentence(sentence: str, translations: dict) -> str:\n",
    "    for eng, dutch in translations.items():\n",
    "        if eng in sentence:\n",
    "            sentence = sentence.replace(eng, dutch)\n",
    "    return sentence\n",
    "\n",
    "def replace_dataset_col_with_transaltion(dataset,translations):\n",
    "    for dataset_keys in dataset.keys():\n",
    "        pd_df = dataset[dataset_keys].to_pandas()\n",
    "\n",
    "        text_translations = list(pd_df['instruction'].apply(lambda x : translate_sentence(x,translations)))\n",
    "       \n",
    "        new_dataset = dataset[dataset_keys].remove_columns(\"instruction\")\n",
    "        dataset_with_new_translation = new_dataset.add_column(\n",
    "            \"instruction\", text_translations\n",
    "        )\n",
    "        dataset[dataset_keys] = dataset_with_new_translation\n",
    "    return dataset\n",
    "\n"
   ]
  },
  {
   "cell_type": "markdown",
   "metadata": {},
   "source": [
    "# NER-CLS"
   ]
  },
  {
   "cell_type": "code",
   "execution_count": 8,
   "metadata": {},
   "outputs": [],
   "source": [
    "dataset = load_from_disk('../data/FinGPT/fingpt-ner-cls')"
   ]
  },
  {
   "cell_type": "code",
   "execution_count": 9,
   "metadata": {},
   "outputs": [],
   "source": [
    "dataset = replace_dataset_col_with_transaltion(dataset, ner_cls_translations)"
   ]
  },
  {
   "cell_type": "code",
   "execution_count": 10,
   "metadata": {},
   "outputs": [
    {
     "name": "stderr",
     "output_type": "stream",
     "text": [
      "Saving the dataset (1/1 shards): 100%|██████████| 13549/13549 [00:00<00:00, 887489.65 examples/s]\n",
      "Saving the dataset (1/1 shards): 100%|██████████| 3502/3502 [00:00<00:00, 704955.49 examples/s]\n"
     ]
    }
   ],
   "source": [
    "dataset.save_to_disk('../data/preprocessed/fingpt-ner-cls')"
   ]
  },
  {
   "cell_type": "markdown",
   "metadata": {},
   "source": [
    "# NER"
   ]
  },
  {
   "cell_type": "code",
   "execution_count": 11,
   "metadata": {},
   "outputs": [],
   "source": [
    "dataset = load_from_disk('../data/FinGPT/fingpt-ner')"
   ]
  },
  {
   "cell_type": "code",
   "execution_count": 12,
   "metadata": {},
   "outputs": [],
   "source": [
    "dataset = replace_dataset_col_with_transaltion(dataset, ner_translations)"
   ]
  },
  {
   "cell_type": "code",
   "execution_count": 13,
   "metadata": {},
   "outputs": [
    {
     "name": "stderr",
     "output_type": "stream",
     "text": [
      "Saving the dataset (1/1 shards): 100%|██████████| 511/511 [00:00<00:00, 135044.38 examples/s]\n",
      "Saving the dataset (1/1 shards): 100%|██████████| 98/98 [00:00<00:00, 29444.25 examples/s]\n"
     ]
    }
   ],
   "source": [
    "dataset.save_to_disk('../data/preprocessed/fingpt-ner-cls')"
   ]
  },
  {
   "cell_type": "markdown",
   "metadata": {},
   "source": [
    "# FINRED-RE"
   ]
  },
  {
   "cell_type": "code",
   "execution_count": 14,
   "metadata": {},
   "outputs": [],
   "source": [
    "dataset = load_from_disk('../data/FinGPT/fingpt-finred-re')"
   ]
  },
  {
   "cell_type": "code",
   "execution_count": 15,
   "metadata": {},
   "outputs": [],
   "source": [
    "dataset = replace_dataset_col_with_transaltion(dataset, finred_re_translations)"
   ]
  },
  {
   "cell_type": "code",
   "execution_count": 16,
   "metadata": {},
   "outputs": [
    {
     "name": "stderr",
     "output_type": "stream",
     "text": [
      "Saving the dataset (1/1 shards): 100%|██████████| 11400/11400 [00:00<00:00, 795816.88 examples/s]\n",
      "Saving the dataset (1/1 shards): 100%|██████████| 2136/2136 [00:00<00:00, 467005.49 examples/s]\n"
     ]
    }
   ],
   "source": [
    "dataset.save_to_disk('../data/preprocessed/fingpt-ner-cls')"
   ]
  },
  {
   "cell_type": "markdown",
   "metadata": {},
   "source": [
    "# FINRED"
   ]
  },
  {
   "cell_type": "code",
   "execution_count": 17,
   "metadata": {},
   "outputs": [],
   "source": [
    "dataset = load_from_disk('../data/FinGPT/fingpt-finred')"
   ]
  },
  {
   "cell_type": "code",
   "execution_count": 18,
   "metadata": {},
   "outputs": [],
   "source": [
    "dataset = replace_dataset_col_with_transaltion(dataset, finred_translations)\n",
    "dataset = replace_dataset_col_with_transaltion(dataset, finred_general)"
   ]
  },
  {
   "cell_type": "code",
   "execution_count": 19,
   "metadata": {},
   "outputs": [
    {
     "name": "stderr",
     "output_type": "stream",
     "text": [
      "Saving the dataset (1/1 shards): 100%|██████████| 27558/27558 [00:00<00:00, 418051.46 examples/s]\n",
      "Saving the dataset (1/1 shards): 100%|██████████| 5112/5112 [00:00<00:00, 568734.27 examples/s]\n"
     ]
    }
   ],
   "source": [
    "dataset.save_to_disk('../data/preprocessed/fingpt-ner-cls')"
   ]
  },
  {
   "cell_type": "markdown",
   "metadata": {},
   "source": [
    "# FINRED-CLS"
   ]
  },
  {
   "cell_type": "code",
   "execution_count": 20,
   "metadata": {},
   "outputs": [],
   "source": [
    "dataset = load_from_disk('../data/FinGPT/fingpt-finred-cls')"
   ]
  },
  {
   "cell_type": "code",
   "execution_count": 21,
   "metadata": {},
   "outputs": [],
   "source": [
    "dataset = replace_dataset_col_with_transaltion(dataset, finred_cls_translations)\n",
    "dataset = replace_dataset_col_with_transaltion(dataset, finred_general)"
   ]
  },
  {
   "cell_type": "code",
   "execution_count": 22,
   "metadata": {},
   "outputs": [
    {
     "name": "stderr",
     "output_type": "stream",
     "text": [
      "Saving the dataset (1/1 shards): 100%|██████████| 48474/48474 [00:00<00:00, 1060283.65 examples/s]\n",
      "Saving the dataset (1/1 shards): 100%|██████████| 8928/8928 [00:00<00:00, 1064856.57 examples/s]\n"
     ]
    }
   ],
   "source": [
    "dataset.save_to_disk('../data/preprocessed/fingpt-ner-cls')"
   ]
  },
  {
   "cell_type": "markdown",
   "metadata": {},
   "source": [
    "# HEADLINE"
   ]
  },
  {
   "cell_type": "code",
   "execution_count": 23,
   "metadata": {},
   "outputs": [],
   "source": [
    "dataset = load_from_disk('../data/FinGPT/fingpt-headline')"
   ]
  },
  {
   "cell_type": "code",
   "execution_count": 24,
   "metadata": {},
   "outputs": [],
   "source": [
    "dataset = replace_dataset_col_with_transaltion(dataset, headline_translations)"
   ]
  },
  {
   "cell_type": "code",
   "execution_count": 25,
   "metadata": {},
   "outputs": [
    {
     "name": "stderr",
     "output_type": "stream",
     "text": [
      "Saving the dataset (1/1 shards): 100%|██████████| 82161/82161 [00:00<00:00, 2376870.63 examples/s]\n",
      "Saving the dataset (1/1 shards): 100%|██████████| 20547/20547 [00:00<00:00, 2011398.13 examples/s]\n"
     ]
    }
   ],
   "source": [
    "dataset.save_to_disk('../data/preprocessed/fingpt-ner-cls')"
   ]
  }
 ],
 "metadata": {
  "kernelspec": {
   "display_name": "fingeitje",
   "language": "python",
   "name": "fingeitje"
  },
  "language_info": {
   "codemirror_mode": {
    "name": "ipython",
    "version": 3
   },
   "file_extension": ".py",
   "mimetype": "text/x-python",
   "name": "python",
   "nbconvert_exporter": "python",
   "pygments_lexer": "ipython3",
   "version": "3.11.5"
  }
 },
 "nbformat": 4,
 "nbformat_minor": 2
}

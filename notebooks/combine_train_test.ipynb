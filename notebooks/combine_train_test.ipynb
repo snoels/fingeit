{
 "cells": [
  {
   "cell_type": "code",
   "execution_count": 1,
   "metadata": {},
   "outputs": [
    {
     "name": "stderr",
     "output_type": "stream",
     "text": [
      "/home/sandernoels/miniconda3/lib/python3.11/site-packages/tqdm/auto.py:21: TqdmWarning: IProgress not found. Please update jupyter and ipywidgets. See https://ipywidgets.readthedocs.io/en/stable/user_install.html\n",
      "  from .autonotebook import tqdm as notebook_tqdm\n"
     ]
    }
   ],
   "source": [
    "import sys\n",
    "sys.path.append('..')\n",
    "\n",
    "from datasets import Dataset, DatasetDict, load_from_disk"
   ]
  },
  {
   "cell_type": "markdown",
   "metadata": {},
   "source": [
    "# NER-CLS"
   ]
  },
  {
   "cell_type": "code",
   "execution_count": 2,
   "metadata": {},
   "outputs": [
    {
     "name": "stderr",
     "output_type": "stream",
     "text": [
      "Saving the dataset (1/1 shards): 100%|██████████| 13549/13549 [00:00<00:00, 750361.46 examples/s]\n",
      "Saving the dataset (1/1 shards): 100%|██████████| 3502/3502 [00:00<00:00, 493712.90 examples/s]\n"
     ]
    }
   ],
   "source": [
    "name_ds = 'ner-cls'\n",
    "\n",
    "train_dataset = load_from_disk(f'../data/retranslated/fingpt-{name_ds}')['train'].to_pandas()\n",
    "test_dataset = load_from_disk(f'../data/retranslated-test/fingpt-{name_ds}')['test'].to_pandas()\n",
    "\n",
    "new_ds = DatasetDict()\n",
    "\n",
    "new_ds['train'] = Dataset.from_pandas(train_dataset, preserve_index=False)\n",
    "new_ds['test'] = Dataset.from_pandas(test_dataset, preserve_index=False)\n",
    "\n",
    "new_ds.save_to_disk(f'../data/final/fingpt-{name_ds}')"
   ]
  },
  {
   "cell_type": "markdown",
   "metadata": {},
   "source": [
    "# NER"
   ]
  },
  {
   "cell_type": "code",
   "execution_count": 3,
   "metadata": {},
   "outputs": [
    {
     "name": "stderr",
     "output_type": "stream",
     "text": [
      "Saving the dataset (1/1 shards): 100%|██████████| 511/511 [00:00<00:00, 181051.64 examples/s]\n",
      "Saving the dataset (1/1 shards): 100%|██████████| 98/98 [00:00<00:00, 42419.17 examples/s]\n"
     ]
    }
   ],
   "source": [
    "name_ds = 'ner'\n",
    "\n",
    "train_dataset = load_from_disk(f'../data/retranslated/fingpt-{name_ds}')['train'].to_pandas()\n",
    "test_dataset = load_from_disk(f'../data/retranslated-test/fingpt-{name_ds}')['test'].to_pandas()\n",
    "\n",
    "new_ds = DatasetDict()\n",
    "\n",
    "new_ds['train'] = Dataset.from_pandas(train_dataset, preserve_index=False)\n",
    "new_ds['test'] = Dataset.from_pandas(test_dataset, preserve_index=False)\n",
    "\n",
    "new_ds.save_to_disk(f'../data/final/fingpt-{name_ds}')"
   ]
  },
  {
   "cell_type": "markdown",
   "metadata": {},
   "source": [
    "# FINRED"
   ]
  },
  {
   "cell_type": "code",
   "execution_count": 5,
   "metadata": {},
   "outputs": [
    {
     "name": "stderr",
     "output_type": "stream",
     "text": [
      "Saving the dataset (1/1 shards): 100%|██████████| 27558/27558 [00:00<00:00, 485937.83 examples/s]\n",
      "Saving the dataset (1/1 shards): 100%|██████████| 5112/5112 [00:00<00:00, 435506.31 examples/s]\n"
     ]
    }
   ],
   "source": [
    "name_ds = 'finred'\n",
    "\n",
    "train_dataset = load_from_disk(f'../data/retranslated/fingpt-{name_ds}')['train'].to_pandas()\n",
    "test_dataset = load_from_disk(f'../data/retranslated-test/fingpt-{name_ds}')['test'].to_pandas()\n",
    "\n",
    "new_ds = DatasetDict()\n",
    "\n",
    "new_ds['train'] = Dataset.from_pandas(train_dataset, preserve_index=False)\n",
    "new_ds['test'] = Dataset.from_pandas(test_dataset, preserve_index=False)\n",
    "\n",
    "new_ds.save_to_disk(f'../data/final/fingpt-{name_ds}')"
   ]
  },
  {
   "cell_type": "markdown",
   "metadata": {},
   "source": [
    "# FINRED-CLS"
   ]
  },
  {
   "cell_type": "code",
   "execution_count": 6,
   "metadata": {},
   "outputs": [
    {
     "name": "stderr",
     "output_type": "stream",
     "text": [
      "Saving the dataset (1/1 shards): 100%|██████████| 48474/48474 [00:00<00:00, 790111.66 examples/s]\n",
      "Saving the dataset (1/1 shards): 100%|██████████| 8928/8928 [00:00<00:00, 752048.40 examples/s]\n"
     ]
    }
   ],
   "source": [
    "name_ds = 'finred-cls'\n",
    "\n",
    "train_dataset = load_from_disk(f'../data/retranslated/fingpt-{name_ds}')['train'].to_pandas()\n",
    "test_dataset = load_from_disk(f'../data/retranslated-test/fingpt-{name_ds}')['test'].to_pandas()\n",
    "\n",
    "new_ds = DatasetDict()\n",
    "\n",
    "new_ds['train'] = Dataset.from_pandas(train_dataset, preserve_index=False)\n",
    "new_ds['test'] = Dataset.from_pandas(test_dataset, preserve_index=False)\n",
    "\n",
    "new_ds.save_to_disk(f'../data/final/fingpt-{name_ds}')"
   ]
  },
  {
   "cell_type": "markdown",
   "metadata": {},
   "source": [
    "# FINRED-RE"
   ]
  },
  {
   "cell_type": "code",
   "execution_count": 7,
   "metadata": {},
   "outputs": [
    {
     "name": "stderr",
     "output_type": "stream",
     "text": [
      "Saving the dataset (1/1 shards): 100%|██████████| 11400/11400 [00:00<00:00, 440927.55 examples/s]\n",
      "Saving the dataset (1/1 shards): 100%|██████████| 2136/2136 [00:00<00:00, 322882.95 examples/s]\n"
     ]
    }
   ],
   "source": [
    "name_ds = 'finred-re'\n",
    "\n",
    "train_dataset = load_from_disk(f'../data/retranslated/fingpt-{name_ds}')['train'].to_pandas()\n",
    "test_dataset = load_from_disk(f'../data/retranslated-test/fingpt-{name_ds}')['test'].to_pandas()\n",
    "\n",
    "new_ds = DatasetDict()\n",
    "\n",
    "new_ds['train'] = Dataset.from_pandas(train_dataset, preserve_index=False)\n",
    "new_ds['test'] = Dataset.from_pandas(test_dataset, preserve_index=False)\n",
    "\n",
    "new_ds.save_to_disk(f'../data/final/fingpt-{name_ds}')"
   ]
  },
  {
   "cell_type": "markdown",
   "metadata": {},
   "source": [
    "# HEADLINE"
   ]
  },
  {
   "cell_type": "code",
   "execution_count": 2,
   "metadata": {},
   "outputs": [
    {
     "name": "stderr",
     "output_type": "stream",
     "text": [
      "Saving the dataset (1/1 shards): 100%|██████████| 82161/82161 [00:00<00:00, 1463348.00 examples/s]\n",
      "Saving the dataset (1/1 shards): 100%|██████████| 20547/20547 [00:00<00:00, 1333813.60 examples/s]\n"
     ]
    }
   ],
   "source": [
    "name_ds = 'headline'\n",
    "\n",
    "train_dataset = load_from_disk(f'../data/retranslated/fingpt-{name_ds}')['train'].to_pandas()\n",
    "test_dataset = load_from_disk(f'../data/retranslated-test/fingpt-{name_ds}')['test'].to_pandas()\n",
    "\n",
    "new_ds = DatasetDict()\n",
    "\n",
    "new_ds['train'] = Dataset.from_pandas(train_dataset, preserve_index=False)\n",
    "new_ds['test'] = Dataset.from_pandas(test_dataset, preserve_index=False)\n",
    "\n",
    "new_ds.save_to_disk(f'../data/final/fingpt-{name_ds}')"
   ]
  }
 ],
 "metadata": {
  "kernelspec": {
   "display_name": "fingeitje",
   "language": "python",
   "name": "fingeitje"
  },
  "language_info": {
   "codemirror_mode": {
    "name": "ipython",
    "version": 3
   },
   "file_extension": ".py",
   "mimetype": "text/x-python",
   "name": "python",
   "nbconvert_exporter": "python",
   "pygments_lexer": "ipython3",
   "version": "3.11.5"
  }
 },
 "nbformat": 4,
 "nbformat_minor": 2
}

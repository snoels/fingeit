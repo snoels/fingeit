{
 "cells": [
  {
   "cell_type": "markdown",
   "metadata": {},
   "source": [
    "# Combine Datasets"
   ]
  },
  {
   "cell_type": "code",
   "execution_count": 1,
   "metadata": {},
   "outputs": [
    {
     "name": "stderr",
     "output_type": "stream",
     "text": [
      "/home/sandernoels/miniconda3/lib/python3.11/site-packages/tqdm/auto.py:21: TqdmWarning: IProgress not found. Please update jupyter and ipywidgets. See https://ipywidgets.readthedocs.io/en/stable/user_install.html\n",
      "  from .autonotebook import tqdm as notebook_tqdm\n"
     ]
    }
   ],
   "source": [
    "from huggingface_hub import hf_hub_download\n",
    "import fasttext\n",
    "from datasets import Dataset, DatasetDict, load_from_disk\n",
    "import pickle\n",
    "\n",
    "import sys\n",
    "sys.path.append('..')\n",
    "\n",
    "from src.data_processing.utils import is_language"
   ]
  },
  {
   "cell_type": "code",
   "execution_count": 2,
   "metadata": {},
   "outputs": [
    {
     "name": "stderr",
     "output_type": "stream",
     "text": [
      "Warning : `load_model` does not return WordVectorModel or SupervisedModel any more, but a `FastText` object which is very similar.\n"
     ]
    }
   ],
   "source": [
    "model_path = hf_hub_download(\n",
    "    repo_id=\"facebook/fasttext-language-identification\", filename=\"model.bin\"\n",
    ")\n",
    "model = fasttext.load_model(model_path)\n",
    "\n",
    "all_data = {}\n",
    "\n",
    "def get_ds_and_check_deletion(name):\n",
    "    try:\n",
    "        old = load_from_disk(f'../data/FinGPT/{name}')\n",
    "    except:\n",
    "        old = load_from_disk(f'../data/preprocessed/{name}')\n",
    "    ds = load_from_disk(f'../data/reformatted/{name}')\n",
    "\n",
    "    for key in ds.keys():\n",
    "        perc_deleted = 1 - ds[key].num_rows/old[key].num_rows\n",
    "        print(key, 'deleted:', perc_deleted)\n",
    "\n",
    "    return ds\n",
    "\n",
    "def return_dutch_training_samples(df, cols, model):\n",
    "    is_dutch = df[cols].applymap(lambda x: is_language(x, model, 'nld')).all(axis = 1)\n",
    "    return df[is_dutch]\n",
    "\n",
    "def filter_non_dutch(ds, cols):\n",
    "\n",
    "    new_ds = DatasetDict()\n",
    "    \n",
    "    for key in ds.keys():\n",
    "        df = ds[key].to_pandas()\n",
    "        df = return_dutch_training_samples(df, cols, model)\n",
    "        new_ds[key] = Dataset.from_pandas(df, preserve_index=False)\n",
    "    \n",
    "    return new_ds\n"
   ]
  },
  {
   "cell_type": "markdown",
   "metadata": {},
   "source": [
    "## FINRED"
   ]
  },
  {
   "cell_type": "code",
   "execution_count": 34,
   "metadata": {},
   "outputs": [
    {
     "name": "stdout",
     "output_type": "stream",
     "text": [
      "train deleted: 0.009362072719355519\n",
      "test deleted: 0.0017605633802817433\n"
     ]
    }
   ],
   "source": [
    "name = 'fingpt-finred'\n",
    "\n",
    "finred = get_ds_and_check_deletion(name)"
   ]
  },
  {
   "cell_type": "code",
   "execution_count": 58,
   "metadata": {},
   "outputs": [
    {
     "name": "stderr",
     "output_type": "stream",
     "text": [
      "/tmp/ipykernel_150099/1547617486.py:20: FutureWarning: DataFrame.applymap has been deprecated. Use DataFrame.map instead.\n",
      "  is_duch = df[cols].applymap(lambda x: is_language(x, model, 'nld')).all(axis = 1)\n",
      "/tmp/ipykernel_150099/1547617486.py:20: FutureWarning: DataFrame.applymap has been deprecated. Use DataFrame.map instead.\n",
      "  is_duch = df[cols].applymap(lambda x: is_language(x, model, 'nld')).all(axis = 1)\n"
     ]
    }
   ],
   "source": [
    "_finred = filter_non_dutch(finred, ['input','instruction'])"
   ]
  },
  {
   "cell_type": "code",
   "execution_count": null,
   "metadata": {},
   "outputs": [],
   "source": [
    "all_data['finred'] = _finred"
   ]
  },
  {
   "cell_type": "markdown",
   "metadata": {},
   "source": [
    "## FINRED-RE"
   ]
  },
  {
   "cell_type": "code",
   "execution_count": 8,
   "metadata": {},
   "outputs": [
    {
     "name": "stdout",
     "output_type": "stream",
     "text": [
      "train deleted: 0.004298245614035134\n",
      "test deleted: 0.000936329588014928\n"
     ]
    }
   ],
   "source": [
    "name = 'fingpt-finred-re'\n",
    "\n",
    "finred_re = get_ds_and_check_deletion(name)"
   ]
  },
  {
   "cell_type": "code",
   "execution_count": 33,
   "metadata": {},
   "outputs": [
    {
     "name": "stderr",
     "output_type": "stream",
     "text": [
      "/tmp/ipykernel_155476/1547617486.py:20: FutureWarning: DataFrame.applymap has been deprecated. Use DataFrame.map instead.\n",
      "  is_duch = df[cols].applymap(lambda x: is_language(x, model, 'nld')).all(axis = 1)\n",
      "/tmp/ipykernel_155476/1547617486.py:20: FutureWarning: DataFrame.applymap has been deprecated. Use DataFrame.map instead.\n",
      "  is_duch = df[cols].applymap(lambda x: is_language(x, model, 'nld')).all(axis = 1)\n"
     ]
    }
   ],
   "source": [
    "_finred_re = filter_non_dutch(finred_re, ['input','instruction'])"
   ]
  },
  {
   "cell_type": "code",
   "execution_count": null,
   "metadata": {},
   "outputs": [],
   "source": [
    "all_data['finred_re'] = _finred_re"
   ]
  },
  {
   "cell_type": "markdown",
   "metadata": {},
   "source": [
    "## FINRED-CLS"
   ]
  },
  {
   "cell_type": "code",
   "execution_count": 27,
   "metadata": {},
   "outputs": [
    {
     "name": "stdout",
     "output_type": "stream",
     "text": [
      "train deleted: 0.07915583611833144\n",
      "test deleted: 0.06530017921146958\n"
     ]
    }
   ],
   "source": [
    "name = 'fingpt-finred-cls'\n",
    "\n",
    "finred_cls = get_ds_and_check_deletion(name)"
   ]
  },
  {
   "cell_type": "code",
   "execution_count": 30,
   "metadata": {},
   "outputs": [
    {
     "name": "stderr",
     "output_type": "stream",
     "text": [
      "/tmp/ipykernel_155476/1547617486.py:20: FutureWarning: DataFrame.applymap has been deprecated. Use DataFrame.map instead.\n",
      "  is_duch = df[cols].applymap(lambda x: is_language(x, model, 'nld')).all(axis = 1)\n",
      "/tmp/ipykernel_155476/1547617486.py:20: FutureWarning: DataFrame.applymap has been deprecated. Use DataFrame.map instead.\n",
      "  is_duch = df[cols].applymap(lambda x: is_language(x, model, 'nld')).all(axis = 1)\n"
     ]
    }
   ],
   "source": [
    "_finred_cls = filter_non_dutch(finred_cls, ['input','instruction'])"
   ]
  },
  {
   "cell_type": "code",
   "execution_count": null,
   "metadata": {},
   "outputs": [],
   "source": [
    "all_data['finred_cls'] = _finred_cls"
   ]
  },
  {
   "cell_type": "markdown",
   "metadata": {},
   "source": [
    "## HEADLINE"
   ]
  },
  {
   "cell_type": "code",
   "execution_count": 24,
   "metadata": {},
   "outputs": [
    {
     "name": "stdout",
     "output_type": "stream",
     "text": [
      "train deleted: 0.0006450749138885437\n",
      "test deleted: 0.00048668905436322074\n"
     ]
    }
   ],
   "source": [
    "name = 'fingpt-headline'\n",
    "\n",
    "headline = get_ds_and_check_deletion(name)"
   ]
  },
  {
   "cell_type": "code",
   "execution_count": 16,
   "metadata": {},
   "outputs": [
    {
     "name": "stderr",
     "output_type": "stream",
     "text": [
      "/tmp/ipykernel_155476/1547617486.py:20: FutureWarning: DataFrame.applymap has been deprecated. Use DataFrame.map instead.\n",
      "  is_duch = df[cols].applymap(lambda x: is_language(x, model, 'nld')).all(axis = 1)\n",
      "/tmp/ipykernel_155476/1547617486.py:20: FutureWarning: DataFrame.applymap has been deprecated. Use DataFrame.map instead.\n",
      "  is_duch = df[cols].applymap(lambda x: is_language(x, model, 'nld')).all(axis = 1)\n"
     ]
    }
   ],
   "source": [
    "_headline = filter_non_dutch(headline, ['input','instruction'])"
   ]
  },
  {
   "cell_type": "code",
   "execution_count": null,
   "metadata": {},
   "outputs": [],
   "source": [
    "all_data['headline'] = _headline"
   ]
  },
  {
   "cell_type": "markdown",
   "metadata": {},
   "source": [
    "## HEADLINE-CLS"
   ]
  },
  {
   "cell_type": "code",
   "execution_count": 18,
   "metadata": {},
   "outputs": [
    {
     "name": "stdout",
     "output_type": "stream",
     "text": [
      "train deleted: 0.029746473387617045\n",
      "test deleted: 0.02900666764004478\n"
     ]
    }
   ],
   "source": [
    "name = 'fingpt-headline-cls'\n",
    "\n",
    "headline_cls = get_ds_and_check_deletion(name)"
   ]
  },
  {
   "cell_type": "code",
   "execution_count": 23,
   "metadata": {},
   "outputs": [
    {
     "name": "stderr",
     "output_type": "stream",
     "text": [
      "/tmp/ipykernel_155476/1547617486.py:20: FutureWarning: DataFrame.applymap has been deprecated. Use DataFrame.map instead.\n",
      "  is_duch = df[cols].applymap(lambda x: is_language(x, model, 'nld')).all(axis = 1)\n",
      "/tmp/ipykernel_155476/1547617486.py:20: FutureWarning: DataFrame.applymap has been deprecated. Use DataFrame.map instead.\n",
      "  is_duch = df[cols].applymap(lambda x: is_language(x, model, 'nld')).all(axis = 1)\n"
     ]
    }
   ],
   "source": [
    "_headline_cls = filter_non_dutch(headline_cls, ['input','instruction'])"
   ]
  },
  {
   "cell_type": "code",
   "execution_count": null,
   "metadata": {},
   "outputs": [],
   "source": [
    "all_data['headline_cls'] = _headline_cls"
   ]
  },
  {
   "cell_type": "markdown",
   "metadata": {},
   "source": [
    "## NER"
   ]
  },
  {
   "cell_type": "code",
   "execution_count": 40,
   "metadata": {},
   "outputs": [
    {
     "name": "stdout",
     "output_type": "stream",
     "text": [
      "train deleted: 0.136986301369863\n",
      "test deleted: 0.2857142857142857\n"
     ]
    }
   ],
   "source": [
    "name = 'fingpt-ner'\n",
    "\n",
    "ner = get_ds_and_check_deletion(name)"
   ]
  },
  {
   "cell_type": "code",
   "execution_count": 41,
   "metadata": {},
   "outputs": [
    {
     "name": "stderr",
     "output_type": "stream",
     "text": [
      "/tmp/ipykernel_155476/1547617486.py:20: FutureWarning: DataFrame.applymap has been deprecated. Use DataFrame.map instead.\n",
      "  is_duch = df[cols].applymap(lambda x: is_language(x, model, 'nld')).all(axis = 1)\n",
      "/tmp/ipykernel_155476/1547617486.py:20: FutureWarning: DataFrame.applymap has been deprecated. Use DataFrame.map instead.\n",
      "  is_duch = df[cols].applymap(lambda x: is_language(x, model, 'nld')).all(axis = 1)\n"
     ]
    }
   ],
   "source": [
    "_ner = filter_non_dutch(ner, ['input','instruction'])"
   ]
  },
  {
   "cell_type": "code",
   "execution_count": null,
   "metadata": {},
   "outputs": [],
   "source": [
    "all_data['ner'] = _ner"
   ]
  },
  {
   "cell_type": "markdown",
   "metadata": {},
   "source": [
    "## NER-CLS"
   ]
  },
  {
   "cell_type": "code",
   "execution_count": 46,
   "metadata": {},
   "outputs": [
    {
     "name": "stdout",
     "output_type": "stream",
     "text": [
      "train deleted: 0.15956897187984354\n",
      "test deleted: 0.24271844660194175\n"
     ]
    }
   ],
   "source": [
    "name = 'fingpt-ner-cls'\n",
    "\n",
    "ner_cls = get_ds_and_check_deletion(name)"
   ]
  },
  {
   "cell_type": "code",
   "execution_count": 49,
   "metadata": {},
   "outputs": [
    {
     "name": "stderr",
     "output_type": "stream",
     "text": [
      "/tmp/ipykernel_155476/1547617486.py:20: FutureWarning: DataFrame.applymap has been deprecated. Use DataFrame.map instead.\n",
      "  is_duch = df[cols].applymap(lambda x: is_language(x, model, 'nld')).all(axis = 1)\n",
      "/tmp/ipykernel_155476/1547617486.py:20: FutureWarning: DataFrame.applymap has been deprecated. Use DataFrame.map instead.\n",
      "  is_duch = df[cols].applymap(lambda x: is_language(x, model, 'nld')).all(axis = 1)\n"
     ]
    }
   ],
   "source": [
    "_ner_cls = filter_non_dutch(ner_cls, ['input','instruction'])"
   ]
  },
  {
   "cell_type": "code",
   "execution_count": null,
   "metadata": {},
   "outputs": [],
   "source": [
    "all_data['ner_cls'] = _ner_cls"
   ]
  },
  {
   "cell_type": "markdown",
   "metadata": {},
   "source": [
    "## SENTIMENT-CLS"
   ]
  },
  {
   "cell_type": "code",
   "execution_count": 50,
   "metadata": {},
   "outputs": [
    {
     "name": "stdout",
     "output_type": "stream",
     "text": [
      "train deleted: 0.0009252055428222716\n"
     ]
    }
   ],
   "source": [
    "name = 'fingpt-sentiment-cls'\n",
    "\n",
    "sentiment_cls = get_ds_and_check_deletion(name)"
   ]
  },
  {
   "cell_type": "code",
   "execution_count": 53,
   "metadata": {},
   "outputs": [
    {
     "name": "stderr",
     "output_type": "stream",
     "text": [
      "/tmp/ipykernel_155476/1547617486.py:20: FutureWarning: DataFrame.applymap has been deprecated. Use DataFrame.map instead.\n",
      "  is_duch = df[cols].applymap(lambda x: is_language(x, model, 'nld')).all(axis = 1)\n"
     ]
    }
   ],
   "source": [
    "_sentiment_cls = filter_non_dutch(sentiment_cls, ['input','instruction'])"
   ]
  },
  {
   "cell_type": "code",
   "execution_count": null,
   "metadata": {},
   "outputs": [],
   "source": [
    "all_data['sentiment_cls'] = _sentiment_cls"
   ]
  },
  {
   "cell_type": "markdown",
   "metadata": {},
   "source": [
    "## SENTIMENT-TRAIN"
   ]
  },
  {
   "cell_type": "code",
   "execution_count": 54,
   "metadata": {},
   "outputs": [
    {
     "name": "stdout",
     "output_type": "stream",
     "text": [
      "train deleted: 0.00045589537852341877\n"
     ]
    }
   ],
   "source": [
    "name = 'fingpt-sentiment-train'\n",
    "\n",
    "sentiment_train = get_ds_and_check_deletion(name)"
   ]
  },
  {
   "cell_type": "code",
   "execution_count": 58,
   "metadata": {},
   "outputs": [
    {
     "name": "stderr",
     "output_type": "stream",
     "text": [
      "/tmp/ipykernel_155476/1547617486.py:20: FutureWarning: DataFrame.applymap has been deprecated. Use DataFrame.map instead.\n",
      "  is_duch = df[cols].applymap(lambda x: is_language(x, model, 'nld')).all(axis = 1)\n"
     ]
    }
   ],
   "source": [
    "_sentiment_train = filter_non_dutch(sentiment_train, ['input','instruction'])"
   ]
  },
  {
   "cell_type": "code",
   "execution_count": null,
   "metadata": {},
   "outputs": [],
   "source": [
    "all_data['sentiment_train'] = _sentiment_train"
   ]
  },
  {
   "cell_type": "markdown",
   "metadata": {},
   "source": [
    "## FIQA-QA"
   ]
  },
  {
   "cell_type": "code",
   "execution_count": 64,
   "metadata": {},
   "outputs": [
    {
     "name": "stdout",
     "output_type": "stream",
     "text": [
      "train deleted: 0.007247223845704309\n"
     ]
    }
   ],
   "source": [
    "name = 'fingpt-fiqa_qa'\n",
    "\n",
    "fiqa_qa = get_ds_and_check_deletion(name)"
   ]
  },
  {
   "cell_type": "code",
   "execution_count": 65,
   "metadata": {},
   "outputs": [
    {
     "name": "stderr",
     "output_type": "stream",
     "text": [
      "/tmp/ipykernel_155476/1547617486.py:20: FutureWarning: DataFrame.applymap has been deprecated. Use DataFrame.map instead.\n",
      "  is_duch = df[cols].applymap(lambda x: is_language(x, model, 'nld')).all(axis = 1)\n"
     ]
    }
   ],
   "source": [
    "_fiqa_qa = filter_non_dutch(fiqa_qa, ['input','instruction', 'output'])"
   ]
  },
  {
   "cell_type": "code",
   "execution_count": null,
   "metadata": {},
   "outputs": [],
   "source": [
    "all_data['fiqa_qa'] = _fiqa_qa"
   ]
  },
  {
   "cell_type": "markdown",
   "metadata": {},
   "source": [
    "## CONVFINQA"
   ]
  },
  {
   "cell_type": "code",
   "execution_count": 69,
   "metadata": {},
   "outputs": [
    {
     "name": "stdout",
     "output_type": "stream",
     "text": [
      "train deleted: 0.029989193083573507\n",
      "test deleted: 0.024161073825503365\n"
     ]
    }
   ],
   "source": [
    "name = 'fingpt-convfinqa'\n",
    "\n",
    "convfinqa = get_ds_and_check_deletion(name)"
   ]
  },
  {
   "cell_type": "code",
   "execution_count": 70,
   "metadata": {},
   "outputs": [
    {
     "name": "stderr",
     "output_type": "stream",
     "text": [
      "/tmp/ipykernel_155476/1547617486.py:20: FutureWarning: DataFrame.applymap has been deprecated. Use DataFrame.map instead.\n",
      "  is_duch = df[cols].applymap(lambda x: is_language(x, model, 'nld')).all(axis = 1)\n",
      "/tmp/ipykernel_155476/1547617486.py:20: FutureWarning: DataFrame.applymap has been deprecated. Use DataFrame.map instead.\n",
      "  is_duch = df[cols].applymap(lambda x: is_language(x, model, 'nld')).all(axis = 1)\n"
     ]
    }
   ],
   "source": [
    "_convfinqa = filter_non_dutch(convfinqa, ['input','instruction'])"
   ]
  },
  {
   "cell_type": "code",
   "execution_count": null,
   "metadata": {},
   "outputs": [],
   "source": [
    "all_data['convfinqa'] = _convfinqa"
   ]
  },
  {
   "cell_type": "markdown",
   "metadata": {},
   "source": [
    "## ALPACA-WITH-INPUT\n"
   ]
  },
  {
   "cell_type": "code",
   "execution_count": 74,
   "metadata": {},
   "outputs": [
    {
     "name": "stdout",
     "output_type": "stream",
     "text": [
      "train deleted: 0.04541768045417682\n"
     ]
    }
   ],
   "source": [
    "name = 'finance-alpaca-with-input'\n",
    "\n",
    "alpaca_with_input = get_ds_and_check_deletion(name)"
   ]
  },
  {
   "cell_type": "code",
   "execution_count": 78,
   "metadata": {},
   "outputs": [
    {
     "name": "stderr",
     "output_type": "stream",
     "text": [
      "/tmp/ipykernel_155476/488124182.py:20: FutureWarning: DataFrame.applymap has been deprecated. Use DataFrame.map instead.\n",
      "  is_dutch = df[cols].applymap(lambda x: is_language(x, model, 'nld')).all(axis = 1)\n"
     ]
    }
   ],
   "source": [
    "_alpaca_with_input = filter_non_dutch(alpaca_with_input, ['input','instruction', 'output'])"
   ]
  },
  {
   "cell_type": "code",
   "execution_count": null,
   "metadata": {},
   "outputs": [],
   "source": [
    "all_data['alpaca_with_input'] = _alpaca_with_input"
   ]
  },
  {
   "cell_type": "markdown",
   "metadata": {},
   "source": [
    "## ALPACA-WITHOUT-INPUT"
   ]
  },
  {
   "cell_type": "code",
   "execution_count": 80,
   "metadata": {},
   "outputs": [
    {
     "name": "stdout",
     "output_type": "stream",
     "text": [
      "train deleted: 0.01854261548471048\n"
     ]
    }
   ],
   "source": [
    "name = 'finance-alpaca-without-input'\n",
    "\n",
    "alpaca_without_input = get_ds_and_check_deletion(name)"
   ]
  },
  {
   "cell_type": "code",
   "execution_count": null,
   "metadata": {},
   "outputs": [],
   "source": [
    "_alpaca_without_input = filter_non_dutch(alpaca_without_input, ['instruction', 'output'])"
   ]
  },
  {
   "cell_type": "code",
   "execution_count": null,
   "metadata": {},
   "outputs": [],
   "source": [
    "all_data['alpaca_without_input'] = _alpaca_without_input"
   ]
  },
  {
   "cell_type": "markdown",
   "metadata": {},
   "source": [
    "## Save The Dataset"
   ]
  },
  {
   "cell_type": "code",
   "execution_count": null,
   "metadata": {},
   "outputs": [],
   "source": [
    "with open('../data/all_filtered_data.pickle', 'wb') as output:\n",
    "    pickle.dump(all_data, output)"
   ]
  }
 ],
 "metadata": {
  "kernelspec": {
   "display_name": "fingeitje",
   "language": "python",
   "name": "fingeitje"
  },
  "language_info": {
   "codemirror_mode": {
    "name": "ipython",
    "version": 3
   },
   "file_extension": ".py",
   "mimetype": "text/x-python",
   "name": "python",
   "nbconvert_exporter": "python",
   "pygments_lexer": "ipython3",
   "version": "3.11.5"
  }
 },
 "nbformat": 4,
 "nbformat_minor": 2
}

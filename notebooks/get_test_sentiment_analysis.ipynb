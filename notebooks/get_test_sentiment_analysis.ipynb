{
 "cells": [
  {
   "cell_type": "code",
   "execution_count": 28,
   "id": "f4ff218d-f4eb-4e4b-9f4c-205351349fd2",
   "metadata": {},
   "outputs": [],
   "source": [
    "import datasets\n",
    "from datasets import load_dataset\n",
    "import pickle"
   ]
  },
  {
   "cell_type": "markdown",
   "id": "dc6368fa-4fcd-4336-a548-f37bda3a5d2f",
   "metadata": {
    "tags": []
   },
   "source": [
    "# Sentiment Datasets - Test"
   ]
  },
  {
   "cell_type": "markdown",
   "id": "90c1b2b0-550c-47a7-8486-c7f5601bc0a1",
   "metadata": {},
   "source": [
    "### 1. FPB"
   ]
  },
  {
   "cell_type": "code",
   "execution_count": 3,
   "id": "0d79a0e4-f8f8-4e20-811e-42256b0362df",
   "metadata": {},
   "outputs": [],
   "source": [
    "dic = {\n",
    "    0:\"negative\",\n",
    "    1:'neutral',\n",
    "    2:'positive',\n",
    "}"
   ]
  },
  {
   "cell_type": "code",
   "execution_count": 11,
   "id": "85a3d5c8-6a06-40e5-8ae7-06d1fd93f479",
   "metadata": {},
   "outputs": [],
   "source": [
    "fpb_datasets = load_dataset(\"financial_phrasebank\", \"sentences_50agree\")\n",
    "fpb_datasets = fpb_datasets[\"train\"]\n",
    "fpb_datasets = fpb_datasets.to_pandas()\n",
    "fpb_datasets.columns = [\"input\", \"output\"]\n",
    "fpb_datasets[\"output\"] = fpb_datasets[\"output\"].apply(lambda x:dic[x])\n",
    "fpb_datasets[\"instruction\"] = \"What is the sentiment of this news? Please choose an answer from {negative/neutral/positive}.\"\n",
    "fpb_datasets = datasets.Dataset.from_pandas(fpb_datasets)\n",
    "fpb_datasets = fpb_datasets.train_test_split(seed=42)['test']"
   ]
  },
  {
   "cell_type": "code",
   "execution_count": 12,
   "id": "8b0af8d1",
   "metadata": {},
   "outputs": [
    {
     "data": {
      "text/plain": [
       "Dataset({\n",
       "    features: ['input', 'output', 'instruction'],\n",
       "    num_rows: 1212\n",
       "})"
      ]
     },
     "execution_count": 12,
     "metadata": {},
     "output_type": "execute_result"
    }
   ],
   "source": [
    "fpb_datasets"
   ]
  },
  {
   "cell_type": "markdown",
   "id": "9097f1f3-598c-47d3-8b96-a08254da4c4e",
   "metadata": {},
   "source": [
    "### 2. FiQA SA"
   ]
  },
  {
   "cell_type": "code",
   "execution_count": 14,
   "id": "55d618cc-9e05-4053-b354-e7b159c6906b",
   "metadata": {},
   "outputs": [],
   "source": [
    "def make_label(x):\n",
    "    if x < - 0.1:\n",
    "        return \"negative\"\n",
    "    elif -0.1 <= x < 0.1:\n",
    "        return \"neutral\"\n",
    "    else:\n",
    "        return \"positive\"\n",
    "\n",
    "def add_instructions(x):\n",
    "    if x == \"post\":\n",
    "        return \"What is the sentiment of this tweet? Please choose an answer from {negative/neutral/positive}.\"\n",
    "    else:\n",
    "        return \"What is the sentiment of this news? Please choose an answer from {negative/neutral/positive}.\""
   ]
  },
  {
   "cell_type": "code",
   "execution_count": 17,
   "id": "4b81fb40-1275-4205-9d42-dbfc425dd4a4",
   "metadata": {},
   "outputs": [
    {
     "data": {
      "text/plain": [
       "Dataset({\n",
       "    features: ['input', 'output', 'instruction'],\n",
       "    num_rows: 275\n",
       "})"
      ]
     },
     "execution_count": 17,
     "metadata": {},
     "output_type": "execute_result"
    }
   ],
   "source": [
    "dataset = load_dataset('pauri32/fiqa-2018')\n",
    "# dataset = load_from_disk('../data/fiqa-2018/')\n",
    "dataset = datasets.concatenate_datasets([dataset[\"train\"], dataset[\"validation\"] ,dataset[\"test\"] ])\n",
    "dataset = dataset.to_pandas()\n",
    "dataset[\"output\"] = dataset.sentiment_score.apply(make_label)\n",
    "dataset[\"instruction\"] = dataset.format.apply(add_instructions)\n",
    "dataset = dataset[['sentence', 'output', \"instruction\"]]\n",
    "dataset.columns = [\"input\", \"output\", \"instruction\"]\n",
    "dataset = datasets.Dataset.from_pandas(dataset)\n",
    "fiqa_sa_dataset = dataset.train_test_split(0.226, seed=42)['test']\n",
    "fiqa_sa_dataset"
   ]
  },
  {
   "cell_type": "markdown",
   "id": "a4887301-4f6a-49b0-9e42-aa5bdcd19856",
   "metadata": {},
   "source": [
    "### 3. TFNS"
   ]
  },
  {
   "cell_type": "code",
   "execution_count": 18,
   "id": "e707ffbf-7f92-4b45-8570-a6d63bc64bc7",
   "metadata": {},
   "outputs": [],
   "source": [
    "dic = {\n",
    "    0:\"negative\",\n",
    "    1:'positive',\n",
    "    2:'neutral',\n",
    "}"
   ]
  },
  {
   "cell_type": "code",
   "execution_count": 25,
   "id": "6c6b4ad6",
   "metadata": {},
   "outputs": [
    {
     "data": {
      "text/plain": [
       "Dataset({\n",
       "    features: ['input', 'output', 'instruction'],\n",
       "    num_rows: 2388\n",
       "})"
      ]
     },
     "execution_count": 25,
     "metadata": {},
     "output_type": "execute_result"
    }
   ],
   "source": [
    "social_media_dataset = load_dataset('zeroshot/twitter-financial-news-sentiment')\n",
    "social_media_dataset = social_media_dataset['validation']\n",
    "social_media_dataset = social_media_dataset.to_pandas()\n",
    "social_media_dataset['label'] = social_media_dataset['label'].apply(lambda x:dic[x])\n",
    "social_media_dataset['instruction'] = 'What is the sentiment of this tweet? Please choose an answer from {negative/neutral/positive}.'\n",
    "social_media_dataset.columns = ['input', 'output', 'instruction']\n",
    "social_media_dataset = datasets.Dataset.from_pandas(social_media_dataset)\n",
    "social_media_dataset"
   ]
  },
  {
   "cell_type": "markdown",
   "id": "aee85f1d-7c0e-4642-adbd-f145adb23ef1",
   "metadata": {},
   "source": [
    "### 4. NWGI"
   ]
  },
  {
   "cell_type": "code",
   "execution_count": 26,
   "id": "405d9a3e",
   "metadata": {},
   "outputs": [
    {
     "data": {
      "text/plain": [
       "Dataset({\n",
       "    features: ['input', 'output', 'instruction'],\n",
       "    num_rows: 4047\n",
       "})"
      ]
     },
     "execution_count": 26,
     "metadata": {},
     "output_type": "execute_result"
    }
   ],
   "source": [
    "finance_dataset = load_dataset('oliverwang15/news_with_gpt_instructions')\n",
    "finance_dataset = finance_dataset['test'].to_pandas()\n",
    "finance_dataset['output'] = finance_dataset['label']\n",
    "finance_dataset[\"input\"] = finance_dataset[\"news\"]\n",
    "finance_dataset[\"instruction\"] = 'What is the sentiment of this news? Please choose an answer from {strong negative/moderately negative/mildly negative/neutral/mildly positive/moderately positive/strong positive}.'\n",
    "finance_dataset = finance_dataset[['input', 'output', 'instruction']]\n",
    "finance_dataset = datasets.Dataset.from_pandas(finance_dataset)\n",
    "finance_dataset"
   ]
  },
  {
   "cell_type": "code",
   "execution_count": 27,
   "id": "b7774a58-e4e6-49ac-81fb-ef72dc46446e",
   "metadata": {},
   "outputs": [],
   "source": [
    "all_sentiment_test_data = {}\n",
    "\n",
    "all_sentiment_test_data['fpb'] = fpb_datasets\n",
    "all_sentiment_test_data['fiqa-sa'] = fiqa_sa_dataset\n",
    "all_sentiment_test_data['tfns'] = social_media_dataset\n",
    "all_sentiment_test_data['nwgi'] = finance_dataset"
   ]
  },
  {
   "cell_type": "code",
   "execution_count": 29,
   "id": "56c01f9f",
   "metadata": {},
   "outputs": [],
   "source": [
    "with open('../data/all_sentiment_test_data.pickle', 'wb') as handle:\n",
    "    pickle.dump(all_sentiment_test_data, handle, protocol=pickle.HIGHEST_PROTOCOL)"
   ]
  }
 ],
 "metadata": {
  "kernelspec": {
   "display_name": "fingeitje",
   "language": "python",
   "name": "fingeitje"
  },
  "language_info": {
   "codemirror_mode": {
    "name": "ipython",
    "version": 3
   },
   "file_extension": ".py",
   "mimetype": "text/x-python",
   "name": "python",
   "nbconvert_exporter": "python",
   "pygments_lexer": "ipython3",
   "version": "3.11.5"
  }
 },
 "nbformat": 4,
 "nbformat_minor": 5
}
